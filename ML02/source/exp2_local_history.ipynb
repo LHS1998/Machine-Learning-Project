{
 "cells": [
  {
   "cell_type": "markdown",
   "metadata": {},
   "source": [
    "# Exp2：基于回归分析的大学综合得分预测\n",
    "---\n",
    "\n",
    "## 一、案例简介\n",
    "大学排名是一个非常重要同时也极富挑战性与争议性的问题，一所大学的综合实力涉及科研、师资、学生等方方面面。目前全球有上百家评估机构会评估大学的综合得分进行排序，而这些机构的打分也往往并不一致。在这些评分机构中，世界大学排名中心（Center for World University Rankings，缩写CWUR）以评估教育质量、校友就业、研究成果和引用，而非依赖于调查和大学所提交的数据著称，是非常有影响力的一个。\n",
    "\n",
    "本任务中我们将根据 CWUR 所提供的世界各地知名大学各方面的排名（师资、科研等），一方面通过数据可视化的方式观察不同大学的特点，另一方面希望构建机器学习模型（线性回归）预测一所大学的综合得分。"
   ]
  },
  {
   "cell_type": "markdown",
   "metadata": {},
   "source": [
    "## 二、作业说明\n",
    "使用来自 Kaggle 的[数据](https://www.kaggle.com/mylesoneill/world-university-rankings?select=cwurData.csv)，构建「线性回归」模型，根据大学各项指标的排名预测综合得分。\n",
    "\n",
    "**基本要求：**\n",
    "* 按照 8:2 随机划分训练集测试集，用 RMSE 作为评价指标，得到测试集上线性回归模型的 RMSE 值；\n",
    "* 对线性回归模型的系数进行分析。\n",
    "\n",
    "**扩展要求：**\n",
    "* 对数据进行观察与可视化，展示数据特点；\n",
    "* 尝试其他的回归模型，对比效果；\n",
    "* 尝试将离散的地区特征融入线性回归模型，并对结果进行对比。\n",
    "\n",
    "**注意事项：**\n",
    "* 基本输入特征有 8 个：`quality_of_education`, `alumni_employment`, `quality_of_faculty`, `publications`, `influence`, `citations`, `broad_impact`, `patents`；\n",
    "* 预测目标为`score`；\n",
    "* 可以使用 sklearn 等第三方库，不要求自己实现线性回归；\n",
    "* 需要保留所有数据集生成、模型训练测试的代码；"
   ]
  },
  {
   "cell_type": "markdown",
   "metadata": {},
   "source": [
    "## 三、数据概览"
   ]
  },
  {
   "cell_type": "markdown",
   "metadata": {},
   "source": [
    "假设数据文件位于当前文件夹，我们用 pandas 读入标准 csv 格式文件的函数`read_csv()`将数据转换为`DataFrame`的形式。观察前几条数据记录："
   ]
  },
  {
   "cell_type": "code",
   "execution_count": 1,
   "metadata": {},
   "outputs": [
    {
     "data": {
      "text/plain": "                                       0  \\\nworld_rank                             1   \ninstitution           Harvard University   \nregion                               USA   \nnational_rank                          1   \nquality_of_education                   7   \nalumni_employment                      9   \nquality_of_faculty                     1   \npublications                           1   \ninfluence                              1   \ncitations                              1   \nbroad_impact                         NaN   \npatents                                5   \nscore                              100.0   \nyear                                2012   \n\n                                                          1  \\\nworld_rank                                                2   \ninstitution           Massachusetts Institute of Technology   \nregion                                                  USA   \nnational_rank                                             2   \nquality_of_education                                      9   \nalumni_employment                                        17   \nquality_of_faculty                                        3   \npublications                                             12   \ninfluence                                                 4   \ncitations                                                 4   \nbroad_impact                                            NaN   \npatents                                                   1   \nscore                                                 91.67   \nyear                                                   2012   \n\n                                        2  \nworld_rank                              3  \ninstitution           Stanford University  \nregion                                USA  \nnational_rank                           3  \nquality_of_education                   17  \nalumni_employment                      11  \nquality_of_faculty                      5  \npublications                            4  \ninfluence                               2  \ncitations                               2  \nbroad_impact                          NaN  \npatents                                15  \nscore                                89.5  \nyear                                 2012  ",
      "text/html": "<div>\n<style scoped>\n    .dataframe tbody tr th:only-of-type {\n        vertical-align: middle;\n    }\n\n    .dataframe tbody tr th {\n        vertical-align: top;\n    }\n\n    .dataframe thead th {\n        text-align: right;\n    }\n</style>\n<table border=\"1\" class=\"dataframe\">\n  <thead>\n    <tr style=\"text-align: right;\">\n      <th></th>\n      <th>0</th>\n      <th>1</th>\n      <th>2</th>\n    </tr>\n  </thead>\n  <tbody>\n    <tr>\n      <th>world_rank</th>\n      <td>1</td>\n      <td>2</td>\n      <td>3</td>\n    </tr>\n    <tr>\n      <th>institution</th>\n      <td>Harvard University</td>\n      <td>Massachusetts Institute of Technology</td>\n      <td>Stanford University</td>\n    </tr>\n    <tr>\n      <th>region</th>\n      <td>USA</td>\n      <td>USA</td>\n      <td>USA</td>\n    </tr>\n    <tr>\n      <th>national_rank</th>\n      <td>1</td>\n      <td>2</td>\n      <td>3</td>\n    </tr>\n    <tr>\n      <th>quality_of_education</th>\n      <td>7</td>\n      <td>9</td>\n      <td>17</td>\n    </tr>\n    <tr>\n      <th>alumni_employment</th>\n      <td>9</td>\n      <td>17</td>\n      <td>11</td>\n    </tr>\n    <tr>\n      <th>quality_of_faculty</th>\n      <td>1</td>\n      <td>3</td>\n      <td>5</td>\n    </tr>\n    <tr>\n      <th>publications</th>\n      <td>1</td>\n      <td>12</td>\n      <td>4</td>\n    </tr>\n    <tr>\n      <th>influence</th>\n      <td>1</td>\n      <td>4</td>\n      <td>2</td>\n    </tr>\n    <tr>\n      <th>citations</th>\n      <td>1</td>\n      <td>4</td>\n      <td>2</td>\n    </tr>\n    <tr>\n      <th>broad_impact</th>\n      <td>NaN</td>\n      <td>NaN</td>\n      <td>NaN</td>\n    </tr>\n    <tr>\n      <th>patents</th>\n      <td>5</td>\n      <td>1</td>\n      <td>15</td>\n    </tr>\n    <tr>\n      <th>score</th>\n      <td>100.0</td>\n      <td>91.67</td>\n      <td>89.5</td>\n    </tr>\n    <tr>\n      <th>year</th>\n      <td>2012</td>\n      <td>2012</td>\n      <td>2012</td>\n    </tr>\n  </tbody>\n</table>\n</div>"
     },
     "execution_count": 1,
     "metadata": {},
     "output_type": "execute_result"
    }
   ],
   "source": [
    "import pandas as pd\n",
    "import numpy as np\n",
    "\n",
    "data_df = pd.read_csv('./cwurData.csv')  # 读入 csv 文件为 pandas 的 DataFrame\n",
    "data_df.head(3).T  # 观察前几列并转置方便观察"
   ]
  },
  {
   "cell_type": "markdown",
   "metadata": {},
   "source": [
    "去除其中包含 NaN 的数据，保留 2000 条有效记录。"
   ]
  },
  {
   "cell_type": "markdown",
   "source": [
    "事实上看了一下缺 broad_impact 都是 2012 的数据，而这部分学校同时也有 2013-2015 的数据，因此删掉没有影响。"
   ],
   "metadata": {
    "collapsed": false
   }
  },
  {
   "cell_type": "code",
   "execution_count": 2,
   "metadata": {},
   "outputs": [
    {
     "data": {
      "text/plain": "2000"
     },
     "execution_count": 2,
     "metadata": {},
     "output_type": "execute_result"
    }
   ],
   "source": [
    "data_df = data_df.dropna()  # 舍去包含 NaN 的 row\n",
    "len(data_df)"
   ]
  },
  {
   "cell_type": "markdown",
   "metadata": {},
   "source": [
    "取出对应自变量以及因变量的列，之后就可以基于此切分训练集和测试集，并进行模型构建与分析。"
   ]
  },
  {
   "cell_type": "code",
   "execution_count": 3,
   "metadata": {},
   "outputs": [
    {
     "data": {
      "text/plain": "      quality_of_faculty  publications  citations  alumni_employment  \\\n200                    1             1          1                  1   \n201                    4             5          3                  2   \n202                    2            15          2                 11   \n203                    5            10         12                 10   \n204                   10            11         11                 12   \n...                  ...           ...        ...                ...   \n2195                 218           926        812                567   \n2196                 218           997        645                566   \n2197                 218           830        812                549   \n2198                 218           886        812                567   \n2199                 218           861        812                567   \n\n      influence  quality_of_education  broad_impact  patents  \n200           1                     1           1.0        2  \n201           3                    11           4.0        6  \n202           2                     3           2.0        1  \n203           9                     2          13.0       48  \n204          12                     7          12.0       16  \n...         ...                   ...           ...      ...  \n2195        845                   367         969.0      816  \n2196        908                   236         981.0      871  \n2197        823                   367         975.0      824  \n2198        974                   367         975.0      651  \n2199        991                   367         981.0      547  \n\n[2000 rows x 8 columns]",
      "text/html": "<div>\n<style scoped>\n    .dataframe tbody tr th:only-of-type {\n        vertical-align: middle;\n    }\n\n    .dataframe tbody tr th {\n        vertical-align: top;\n    }\n\n    .dataframe thead th {\n        text-align: right;\n    }\n</style>\n<table border=\"1\" class=\"dataframe\">\n  <thead>\n    <tr style=\"text-align: right;\">\n      <th></th>\n      <th>quality_of_faculty</th>\n      <th>publications</th>\n      <th>citations</th>\n      <th>alumni_employment</th>\n      <th>influence</th>\n      <th>quality_of_education</th>\n      <th>broad_impact</th>\n      <th>patents</th>\n    </tr>\n  </thead>\n  <tbody>\n    <tr>\n      <th>200</th>\n      <td>1</td>\n      <td>1</td>\n      <td>1</td>\n      <td>1</td>\n      <td>1</td>\n      <td>1</td>\n      <td>1.0</td>\n      <td>2</td>\n    </tr>\n    <tr>\n      <th>201</th>\n      <td>4</td>\n      <td>5</td>\n      <td>3</td>\n      <td>2</td>\n      <td>3</td>\n      <td>11</td>\n      <td>4.0</td>\n      <td>6</td>\n    </tr>\n    <tr>\n      <th>202</th>\n      <td>2</td>\n      <td>15</td>\n      <td>2</td>\n      <td>11</td>\n      <td>2</td>\n      <td>3</td>\n      <td>2.0</td>\n      <td>1</td>\n    </tr>\n    <tr>\n      <th>203</th>\n      <td>5</td>\n      <td>10</td>\n      <td>12</td>\n      <td>10</td>\n      <td>9</td>\n      <td>2</td>\n      <td>13.0</td>\n      <td>48</td>\n    </tr>\n    <tr>\n      <th>204</th>\n      <td>10</td>\n      <td>11</td>\n      <td>11</td>\n      <td>12</td>\n      <td>12</td>\n      <td>7</td>\n      <td>12.0</td>\n      <td>16</td>\n    </tr>\n    <tr>\n      <th>...</th>\n      <td>...</td>\n      <td>...</td>\n      <td>...</td>\n      <td>...</td>\n      <td>...</td>\n      <td>...</td>\n      <td>...</td>\n      <td>...</td>\n    </tr>\n    <tr>\n      <th>2195</th>\n      <td>218</td>\n      <td>926</td>\n      <td>812</td>\n      <td>567</td>\n      <td>845</td>\n      <td>367</td>\n      <td>969.0</td>\n      <td>816</td>\n    </tr>\n    <tr>\n      <th>2196</th>\n      <td>218</td>\n      <td>997</td>\n      <td>645</td>\n      <td>566</td>\n      <td>908</td>\n      <td>236</td>\n      <td>981.0</td>\n      <td>871</td>\n    </tr>\n    <tr>\n      <th>2197</th>\n      <td>218</td>\n      <td>830</td>\n      <td>812</td>\n      <td>549</td>\n      <td>823</td>\n      <td>367</td>\n      <td>975.0</td>\n      <td>824</td>\n    </tr>\n    <tr>\n      <th>2198</th>\n      <td>218</td>\n      <td>886</td>\n      <td>812</td>\n      <td>567</td>\n      <td>974</td>\n      <td>367</td>\n      <td>975.0</td>\n      <td>651</td>\n    </tr>\n    <tr>\n      <th>2199</th>\n      <td>218</td>\n      <td>861</td>\n      <td>812</td>\n      <td>567</td>\n      <td>991</td>\n      <td>367</td>\n      <td>981.0</td>\n      <td>547</td>\n    </tr>\n  </tbody>\n</table>\n<p>2000 rows × 8 columns</p>\n</div>"
     },
     "execution_count": 3,
     "metadata": {},
     "output_type": "execute_result"
    }
   ],
   "source": [
    "feature_cols = ['quality_of_faculty', 'publications', 'citations', 'alumni_employment', \n",
    "                'influence', 'quality_of_education', 'broad_impact', 'patents']\n",
    "X = data_df[feature_cols]\n",
    "Y = data_df['score']\n",
    "X"
   ]
  },
  {
   "cell_type": "markdown",
   "metadata": {},
   "source": [
    "## 四、模型构建"
   ]
  },
  {
   "cell_type": "markdown",
   "metadata": {},
   "source": [
    "划分训练集"
   ]
  },
  {
   "cell_type": "code",
   "execution_count": null,
   "metadata": {},
   "outputs": [],
   "source": [
    "from sklearn.model_selection import train_test_split, cross_validate  # 划分数据集函数\n",
    "\n",
    "x_train, x_test, y_train, y_test = train_test_split(X, Y, test_size=0.2)"
   ]
  },
  {
   "cell_type": "markdown",
   "source": [
    "初尝试"
   ],
   "metadata": {
    "collapsed": false
   }
  },
  {
   "cell_type": "code",
   "execution_count": 1,
   "outputs": [
    {
     "name": "stdout",
     "output_type": "stream",
     "text": [
      "[-0.062754    0.00071513 -0.00024528 -0.00698314  0.00057771 -0.00678819\n",
      " -0.00272548 -0.00268042]\n"
     ]
    },
    {
     "ename": "ValueError",
     "evalue": "Expected 2D array, got 1D array instead:\narray=[210. 104.  79.  77. 154. 123. 101.  24.].\nReshape your data either using array.reshape(-1, 1) if your data has a single feature or array.reshape(1, -1) if it contains a single sample.",
     "output_type": "error",
     "traceback": [
      "\u001B[0;31m---------------------------------------------------------------------------\u001B[0m",
      "\u001B[0;31mValueError\u001B[0m                                Traceback (most recent call last)",
      "Input \u001B[0;32mIn [1]\u001B[0m, in \u001B[0;36m<cell line: 21>\u001B[0;34m()\u001B[0m\n\u001B[1;32m     20\u001B[0m RMSE \u001B[38;5;241m=\u001B[39m \u001B[38;5;241m0\u001B[39m\n\u001B[1;32m     21\u001B[0m \u001B[38;5;28;01mfor\u001B[39;00m sample, label \u001B[38;5;129;01min\u001B[39;00m \u001B[38;5;28mzip\u001B[39m(x_test, y_test):\n\u001B[0;32m---> 22\u001B[0m     y_hat \u001B[38;5;241m=\u001B[39m \u001B[43mlr\u001B[49m\u001B[38;5;241;43m.\u001B[39;49m\u001B[43mpredict\u001B[49m\u001B[43m(\u001B[49m\u001B[43msample\u001B[49m\u001B[43m)\u001B[49m\n\u001B[1;32m     23\u001B[0m     RMSE \u001B[38;5;241m+\u001B[39m\u001B[38;5;241m=\u001B[39m \u001B[38;5;28mpow\u001B[39m(label \u001B[38;5;241m-\u001B[39m y_hat, \u001B[38;5;241m2\u001B[39m)\n\u001B[1;32m     25\u001B[0m \u001B[38;5;28mprint\u001B[39m(RMSE)\n",
      "File \u001B[0;32m~/PycharmProjects/yufeng_experiments/venv/lib/python3.9/site-packages/sklearn/linear_model/_base.py:362\u001B[0m, in \u001B[0;36mLinearModel.predict\u001B[0;34m(self, X)\u001B[0m\n\u001B[1;32m    348\u001B[0m \u001B[38;5;28;01mdef\u001B[39;00m \u001B[38;5;21mpredict\u001B[39m(\u001B[38;5;28mself\u001B[39m, X):\n\u001B[1;32m    349\u001B[0m     \u001B[38;5;124;03m\"\"\"\u001B[39;00m\n\u001B[1;32m    350\u001B[0m \u001B[38;5;124;03m    Predict using the linear model.\u001B[39;00m\n\u001B[1;32m    351\u001B[0m \n\u001B[0;32m   (...)\u001B[0m\n\u001B[1;32m    360\u001B[0m \u001B[38;5;124;03m        Returns predicted values.\u001B[39;00m\n\u001B[1;32m    361\u001B[0m \u001B[38;5;124;03m    \"\"\"\u001B[39;00m\n\u001B[0;32m--> 362\u001B[0m     \u001B[38;5;28;01mreturn\u001B[39;00m \u001B[38;5;28;43mself\u001B[39;49m\u001B[38;5;241;43m.\u001B[39;49m\u001B[43m_decision_function\u001B[49m\u001B[43m(\u001B[49m\u001B[43mX\u001B[49m\u001B[43m)\u001B[49m\n",
      "File \u001B[0;32m~/PycharmProjects/yufeng_experiments/venv/lib/python3.9/site-packages/sklearn/linear_model/_base.py:345\u001B[0m, in \u001B[0;36mLinearModel._decision_function\u001B[0;34m(self, X)\u001B[0m\n\u001B[1;32m    342\u001B[0m \u001B[38;5;28;01mdef\u001B[39;00m \u001B[38;5;21m_decision_function\u001B[39m(\u001B[38;5;28mself\u001B[39m, X):\n\u001B[1;32m    343\u001B[0m     check_is_fitted(\u001B[38;5;28mself\u001B[39m)\n\u001B[0;32m--> 345\u001B[0m     X \u001B[38;5;241m=\u001B[39m \u001B[38;5;28;43mself\u001B[39;49m\u001B[38;5;241;43m.\u001B[39;49m\u001B[43m_validate_data\u001B[49m\u001B[43m(\u001B[49m\u001B[43mX\u001B[49m\u001B[43m,\u001B[49m\u001B[43m \u001B[49m\u001B[43maccept_sparse\u001B[49m\u001B[38;5;241;43m=\u001B[39;49m\u001B[43m[\u001B[49m\u001B[38;5;124;43m\"\u001B[39;49m\u001B[38;5;124;43mcsr\u001B[39;49m\u001B[38;5;124;43m\"\u001B[39;49m\u001B[43m,\u001B[49m\u001B[43m \u001B[49m\u001B[38;5;124;43m\"\u001B[39;49m\u001B[38;5;124;43mcsc\u001B[39;49m\u001B[38;5;124;43m\"\u001B[39;49m\u001B[43m,\u001B[49m\u001B[43m \u001B[49m\u001B[38;5;124;43m\"\u001B[39;49m\u001B[38;5;124;43mcoo\u001B[39;49m\u001B[38;5;124;43m\"\u001B[39;49m\u001B[43m]\u001B[49m\u001B[43m,\u001B[49m\u001B[43m \u001B[49m\u001B[43mreset\u001B[49m\u001B[38;5;241;43m=\u001B[39;49m\u001B[38;5;28;43;01mFalse\u001B[39;49;00m\u001B[43m)\u001B[49m\n\u001B[1;32m    346\u001B[0m     \u001B[38;5;28;01mreturn\u001B[39;00m safe_sparse_dot(X, \u001B[38;5;28mself\u001B[39m\u001B[38;5;241m.\u001B[39mcoef_\u001B[38;5;241m.\u001B[39mT, dense_output\u001B[38;5;241m=\u001B[39m\u001B[38;5;28;01mTrue\u001B[39;00m) \u001B[38;5;241m+\u001B[39m \u001B[38;5;28mself\u001B[39m\u001B[38;5;241m.\u001B[39mintercept_\n",
      "File \u001B[0;32m~/PycharmProjects/yufeng_experiments/venv/lib/python3.9/site-packages/sklearn/base.py:566\u001B[0m, in \u001B[0;36mBaseEstimator._validate_data\u001B[0;34m(self, X, y, reset, validate_separately, **check_params)\u001B[0m\n\u001B[1;32m    564\u001B[0m     \u001B[38;5;28;01mraise\u001B[39;00m \u001B[38;5;167;01mValueError\u001B[39;00m(\u001B[38;5;124m\"\u001B[39m\u001B[38;5;124mValidation should be done on X, y or both.\u001B[39m\u001B[38;5;124m\"\u001B[39m)\n\u001B[1;32m    565\u001B[0m \u001B[38;5;28;01melif\u001B[39;00m \u001B[38;5;129;01mnot\u001B[39;00m no_val_X \u001B[38;5;129;01mand\u001B[39;00m no_val_y:\n\u001B[0;32m--> 566\u001B[0m     X \u001B[38;5;241m=\u001B[39m \u001B[43mcheck_array\u001B[49m\u001B[43m(\u001B[49m\u001B[43mX\u001B[49m\u001B[43m,\u001B[49m\u001B[43m \u001B[49m\u001B[38;5;241;43m*\u001B[39;49m\u001B[38;5;241;43m*\u001B[39;49m\u001B[43mcheck_params\u001B[49m\u001B[43m)\u001B[49m\n\u001B[1;32m    567\u001B[0m     out \u001B[38;5;241m=\u001B[39m X\n\u001B[1;32m    568\u001B[0m \u001B[38;5;28;01melif\u001B[39;00m no_val_X \u001B[38;5;129;01mand\u001B[39;00m \u001B[38;5;129;01mnot\u001B[39;00m no_val_y:\n",
      "File \u001B[0;32m~/PycharmProjects/yufeng_experiments/venv/lib/python3.9/site-packages/sklearn/utils/validation.py:769\u001B[0m, in \u001B[0;36mcheck_array\u001B[0;34m(array, accept_sparse, accept_large_sparse, dtype, order, copy, force_all_finite, ensure_2d, allow_nd, ensure_min_samples, ensure_min_features, estimator)\u001B[0m\n\u001B[1;32m    767\u001B[0m     \u001B[38;5;66;03m# If input is 1D raise error\u001B[39;00m\n\u001B[1;32m    768\u001B[0m     \u001B[38;5;28;01mif\u001B[39;00m array\u001B[38;5;241m.\u001B[39mndim \u001B[38;5;241m==\u001B[39m \u001B[38;5;241m1\u001B[39m:\n\u001B[0;32m--> 769\u001B[0m         \u001B[38;5;28;01mraise\u001B[39;00m \u001B[38;5;167;01mValueError\u001B[39;00m(\n\u001B[1;32m    770\u001B[0m             \u001B[38;5;124m\"\u001B[39m\u001B[38;5;124mExpected 2D array, got 1D array instead:\u001B[39m\u001B[38;5;130;01m\\n\u001B[39;00m\u001B[38;5;124marray=\u001B[39m\u001B[38;5;132;01m{}\u001B[39;00m\u001B[38;5;124m.\u001B[39m\u001B[38;5;130;01m\\n\u001B[39;00m\u001B[38;5;124m\"\u001B[39m\n\u001B[1;32m    771\u001B[0m             \u001B[38;5;124m\"\u001B[39m\u001B[38;5;124mReshape your data either using array.reshape(-1, 1) if \u001B[39m\u001B[38;5;124m\"\u001B[39m\n\u001B[1;32m    772\u001B[0m             \u001B[38;5;124m\"\u001B[39m\u001B[38;5;124myour data has a single feature or array.reshape(1, -1) \u001B[39m\u001B[38;5;124m\"\u001B[39m\n\u001B[1;32m    773\u001B[0m             \u001B[38;5;124m\"\u001B[39m\u001B[38;5;124mif it contains a single sample.\u001B[39m\u001B[38;5;124m\"\u001B[39m\u001B[38;5;241m.\u001B[39mformat(array)\n\u001B[1;32m    774\u001B[0m         )\n\u001B[1;32m    776\u001B[0m \u001B[38;5;66;03m# make sure we actually converted to numeric:\u001B[39;00m\n\u001B[1;32m    777\u001B[0m \u001B[38;5;28;01mif\u001B[39;00m dtype_numeric \u001B[38;5;129;01mand\u001B[39;00m array\u001B[38;5;241m.\u001B[39mdtype\u001B[38;5;241m.\u001B[39mkind \u001B[38;5;129;01min\u001B[39;00m \u001B[38;5;124m\"\u001B[39m\u001B[38;5;124mOUSV\u001B[39m\u001B[38;5;124m\"\u001B[39m:\n",
      "\u001B[0;31mValueError\u001B[0m: Expected 2D array, got 1D array instead:\narray=[210. 104.  79.  77. 154. 123. 101.  24.].\nReshape your data either using array.reshape(-1, 1) if your data has a single feature or array.reshape(1, -1) if it contains a single sample."
     ]
    }
   ],
   "source": [
    "import pandas as pd\n",
    "import numpy as np\n",
    "from sklearn.model_selection import train_test_split, cross_validate  # 划分数据集函数\n",
    "from sklearn.linear_model import LinearRegression\n",
    "\n",
    "data_df = pd.read_csv('./cwurData.csv')  # 读入 csv 文件为 pandas 的 DataFrame\n",
    "data_df = data_df.dropna()  # 舍去包含 NaN 的 row\n",
    "\n",
    "feature_cols = ['quality_of_faculty', 'publications', 'citations', 'alumni_employment',\n",
    "                'influence', 'quality_of_education', 'broad_impact', 'patents']\n",
    "X = data_df[feature_cols].values\n",
    "Y = data_df['score'].values\n",
    "x_train, x_test, y_train, y_test = train_test_split(X, Y, test_size=0.2)\n",
    "\n",
    "lr = LinearRegression()\n",
    "lr.fit(x_train, y_train)\n",
    "\n",
    "print(lr.coef_)\n",
    "\n",
    "RMSE = 0\n",
    "for sample, label in zip(x_test, y_test):\n",
    "    y_hat = lr.predict(sample)\n",
    "    RMSE += pow(label - y_hat, 2)\n",
    "\n",
    "print(RMSE)"
   ],
   "metadata": {
    "collapsed": false,
    "pycharm": {
     "name": "#%%\n"
    }
   }
  },
  {
   "cell_type": "code",
   "execution_count": 3,
   "outputs": [
    {
     "name": "stdout",
     "output_type": "stream",
     "text": [
      "[-0.06252249  0.00029599 -0.00014474 -0.00711777  0.00038911 -0.00619858\n",
      " -0.00233552 -0.00254875]\n",
      "[3.52121046]\n"
     ]
    }
   ],
   "source": [
    "import pandas as pd\n",
    "import numpy as np\n",
    "from sklearn.model_selection import train_test_split, cross_validate  # 划分数据集函数\n",
    "from sklearn.linear_model import LinearRegression\n",
    "\n",
    "data_df = pd.read_csv('./cwurData.csv')  # 读入 csv 文件为 pandas 的 DataFrame\n",
    "data_df = data_df.dropna()  # 舍去包含 NaN 的 row\n",
    "\n",
    "feature_cols = ['quality_of_faculty', 'publications', 'citations', 'alumni_employment',\n",
    "                'influence', 'quality_of_education', 'broad_impact', 'patents']\n",
    "X = data_df[feature_cols].values\n",
    "Y = data_df['score'].values\n",
    "x_train, x_test, y_train, y_test = train_test_split(X, Y, test_size=0.2)\n",
    "\n",
    "lr = LinearRegression()\n",
    "lr.fit(x_train, y_train)\n",
    "\n",
    "print(lr.coef_)\n",
    "\n",
    "RMSE = 0\n",
    "for sample, label in zip(x_test, y_test):\n",
    "    y_hat = lr.predict(sample.reshape(1, -1))\n",
    "    RMSE += pow(label - y_hat, 2)\n",
    "\n",
    "RMSE = np.sqrt(RMSE/len(y_test))\n",
    "print(RMSE)"
   ],
   "metadata": {
    "collapsed": false,
    "pycharm": {
     "name": "#%%\n"
    }
   }
  },
  {
   "cell_type": "markdown",
   "source": [
    "重复试验"
   ],
   "metadata": {
    "collapsed": false
   }
  },
  {
   "cell_type": "code",
   "execution_count": 4,
   "outputs": [
    {
     "name": "stdout",
     "output_type": "stream",
     "text": [
      "[4.18563773]\n"
     ]
    }
   ],
   "source": [
    "total_RMSE = []\n",
    "REPEAT_TIMES = 100\n",
    "\n",
    "for i in range(0, REPEAT_TIMES):\n",
    "    x_train, x_test, y_train, y_test = train_test_split(X, Y, test_size=0.2)\n",
    "\n",
    "    lr = LinearRegression()\n",
    "    lr.fit(x_train, y_train)\n",
    "\n",
    "    RMSE = 0\n",
    "    for sample, label in zip(x_test, y_test):\n",
    "        y_hat = lr.predict(sample.reshape(1, -1))\n",
    "        RMSE += pow(label - y_hat, 2)\n",
    "\n",
    "    RMSE = np.sqrt(RMSE/len(y_test))\n",
    "    total_RMSE.append(RMSE)\n",
    "\n",
    "mean = sum(total_RMSE)/REPEAT_TIMES\n",
    "print(mean)"
   ],
   "metadata": {
    "collapsed": false,
    "pycharm": {
     "name": "#%%\n"
    }
   }
  },
  {
   "cell_type": "code",
   "execution_count": 5,
   "outputs": [
    {
     "name": "stdout",
     "output_type": "stream",
     "text": [
      "[4.20311633]\n"
     ]
    }
   ],
   "source": [
    "import pandas as pd\n",
    "import numpy as np\n",
    "from sklearn.model_selection import train_test_split, cross_validate  # 划分数据集函数\n",
    "from sklearn.linear_model import LinearRegression\n",
    "\n",
    "data_df = pd.read_csv('./cwurData.csv')  # 读入 csv 文件为 pandas 的 DataFrame\n",
    "data_df = data_df.dropna()  # 舍去包含 NaN 的 row\n",
    "\n",
    "feature_cols = ['quality_of_faculty', 'publications', 'citations', 'alumni_employment',\n",
    "                'influence', 'quality_of_education', 'broad_impact', 'patents']\n",
    "X = data_df[feature_cols].values\n",
    "Y = data_df['score'].values\n",
    "\n",
    "total_RMSE = []\n",
    "REPEAT_TIMES = 1000\n",
    "\n",
    "for i in range(0, REPEAT_TIMES):\n",
    "    x_train, x_test, y_train, y_test = train_test_split(X, Y, test_size=0.2)\n",
    "\n",
    "    lr = LinearRegression()\n",
    "    lr.fit(x_train, y_train)\n",
    "\n",
    "    RMSE = 0\n",
    "    for sample, label in zip(x_test, y_test):\n",
    "        y_hat = lr.predict(sample.reshape(1, -1))\n",
    "        RMSE += pow(label - y_hat, 2)\n",
    "\n",
    "    RMSE = np.sqrt(RMSE/len(y_test))\n",
    "    total_RMSE.append(RMSE)\n",
    "\n",
    "mean = sum(total_RMSE)/REPEAT_TIMES\n",
    "print(mean)"
   ],
   "metadata": {
    "collapsed": false,
    "pycharm": {
     "name": "#%%\n"
    }
   }
  },
  {
   "cell_type": "code",
   "execution_count": 6,
   "outputs": [
    {
     "name": "stdout",
     "output_type": "stream",
     "text": [
      "[4.22263617]\n"
     ]
    }
   ],
   "source": [
    "import pandas as pd\n",
    "import numpy as np\n",
    "from sklearn.model_selection import train_test_split, cross_validate  # 划分数据集函数\n",
    "from sklearn.linear_model import LinearRegression\n",
    "\n",
    "data_df = pd.read_csv('./cwurData.csv')  # 读入 csv 文件为 pandas 的 DataFrame\n",
    "data_df = data_df.dropna()  # 舍去包含 NaN 的 row\n",
    "\n",
    "feature_cols = ['quality_of_faculty', 'publications', 'citations', 'alumni_employment',\n",
    "                'influence', 'quality_of_education', 'broad_impact', 'patents']\n",
    "X = data_df[feature_cols].values\n",
    "Y = data_df['score'].values\n",
    "\n",
    "total_RMSE = []\n",
    "REPEAT_TIMES = 10000\n",
    "\n",
    "for i in range(0, REPEAT_TIMES):\n",
    "    x_train, x_test, y_train, y_test = train_test_split(X, Y, test_size=0.2)\n",
    "\n",
    "    lr = LinearRegression()\n",
    "    lr.fit(x_train, y_train)\n",
    "\n",
    "    RMSE = 0\n",
    "    for sample, label in zip(x_test, y_test):\n",
    "        y_hat = lr.predict(sample.reshape(1, -1))\n",
    "        RMSE += pow(label - y_hat, 2)\n",
    "\n",
    "    RMSE = np.sqrt(RMSE/len(y_test))\n",
    "    total_RMSE.append(RMSE)\n",
    "\n",
    "mean = sum(total_RMSE)/REPEAT_TIMES\n",
    "print(mean)"
   ],
   "metadata": {
    "collapsed": false,
    "pycharm": {
     "name": "#%%\n"
    }
   }
  },
  {
   "cell_type": "code",
   "execution_count": 7,
   "outputs": [
    {
     "data": {
      "text/plain": "array([2.45841859])"
     },
     "execution_count": 7,
     "metadata": {},
     "output_type": "execute_result"
    }
   ],
   "source": [
    "min(total_RMSE)"
   ],
   "metadata": {
    "collapsed": false,
    "pycharm": {
     "name": "#%%\n"
    }
   }
  },
  {
   "cell_type": "code",
   "execution_count": 8,
   "outputs": [
    {
     "data": {
      "text/plain": "array([6.46587487])"
     },
     "execution_count": 8,
     "metadata": {},
     "output_type": "execute_result"
    }
   ],
   "source": [
    "max(total_RMSE)"
   ],
   "metadata": {
    "collapsed": false,
    "pycharm": {
     "name": "#%%\n"
    }
   }
  },
  {
   "cell_type": "markdown",
   "source": [
    "取对数与画图"
   ],
   "metadata": {
    "collapsed": false
   }
  },
  {
   "cell_type": "code",
   "execution_count": 9,
   "outputs": [
    {
     "name": "stdout",
     "output_type": "stream",
     "text": [
      "2.357875572703435\n"
     ]
    },
    {
     "data": {
      "text/plain": "<Figure size 432x288 with 1 Axes>",
      "image/png": "[encoded data removed]"
     },
     "metadata": {
      "needs_background": "light"
     },
     "output_type": "display_data"
    }
   ],
   "source": [
    "import pandas as pd\n",
    "import numpy as np\n",
    "from sklearn.model_selection import train_test_split, cross_validate  # 划分数据集函数\n",
    "from sklearn.linear_model import LinearRegression\n",
    "import matplotlib.pyplot as plt\n",
    "\n",
    "data_df = pd.read_csv('./cwurData.csv')  # 读入 csv 文件为 pandas 的 DataFrame\n",
    "data_df = data_df.dropna()  # 舍去包含 NaN 的 row\n",
    "\n",
    "feature_cols = ['quality_of_faculty', 'publications', 'citations', 'alumni_employment',\n",
    "                'influence', 'quality_of_education', 'broad_impact', 'patents']\n",
    "X = data_df[feature_cols].values\n",
    "Y = data_df['score'].values\n",
    "\n",
    "log = np.vectorize(np.log)\n",
    "X_log = log(X)\n",
    "\n",
    "total_RMSE = []\n",
    "REPEAT_TIMES = 10000\n",
    "\n",
    "for i in range(0, REPEAT_TIMES):\n",
    "    x_train, x_test, y_train, y_test = train_test_split(X_log, Y, test_size=0.2)\n",
    "\n",
    "    lr = LinearRegression()\n",
    "    lr.fit(x_train, y_train)\n",
    "\n",
    "    RMSE = 0\n",
    "    for sample, label in zip(x_test, y_test):\n",
    "        y_hat = lr.predict(sample.reshape(1, -1))\n",
    "        RMSE += pow(label - y_hat, 2)\n",
    "\n",
    "    RMSE = np.sqrt(RMSE / len(y_test))\n",
    "    total_RMSE.append(RMSE[0])\n",
    "\n",
    "mean = sum(total_RMSE) / REPEAT_TIMES\n",
    "print(mean)\n",
    "\n",
    "with open('RMSE_log.csv', mode='wt') as f:\n",
    "    f.write(str(total_RMSE))\n",
    "\n",
    "plt.xlim([min(total_RMSE) - 0.5, max(total_RMSE) + 0.5])\n",
    "plt.hist(total_RMSE, bins=30)\n",
    "plt.title('Test Set RMSE Frequency')\n",
    "plt.xlabel('RMSE')\n",
    "plt.ylabel('freq.')\n",
    "plt.savefig('RMSE_log_hist.pdf')"
   ],
   "metadata": {
    "collapsed": false,
    "pycharm": {
     "name": "#%%\n"
    }
   }
  },
  {
   "cell_type": "markdown",
   "source": [
    "Normalize：没有效果"
   ],
   "metadata": {
    "collapsed": false
   }
  },
  {
   "cell_type": "code",
   "execution_count": 4,
   "outputs": [
    {
     "name": "stdout",
     "output_type": "stream",
     "text": [
      "2.354309292152515\n"
     ]
    },
    {
     "data": {
      "text/plain": "<Figure size 432x288 with 1 Axes>",
      "image/png": "[encoded data removed]"
     },
     "metadata": {
      "needs_background": "light"
     },
     "output_type": "display_data"
    }
   ],
   "source": [
    "import pandas as pd\n",
    "import numpy as np\n",
    "from sklearn.model_selection import train_test_split, cross_validate  # 划分数据集函数\n",
    "from sklearn.linear_model import LinearRegression\n",
    "import matplotlib.pyplot as plt\n",
    "\n",
    "data_df = pd.read_csv('./cwurData.csv')  # 读入 csv 文件为 pandas 的 DataFrame\n",
    "data_df = data_df.dropna()  # 舍去包含 NaN 的 row\n",
    "\n",
    "feature_cols = ['quality_of_faculty', 'publications', 'citations', 'alumni_employment',\n",
    "                'influence', 'quality_of_education', 'broad_impact', 'patents']\n",
    "X = data_df[feature_cols].values\n",
    "Y = data_df['score'].values\n",
    "\n",
    "log = np.vectorize(np.log)\n",
    "X_log = log(X)\n",
    "\n",
    "import warnings\n",
    "warnings.filterwarnings(\"ignore\")\n",
    "\n",
    "total_RMSE = []\n",
    "REPEAT_TIMES = 10000\n",
    "\n",
    "for i in range(0, REPEAT_TIMES):\n",
    "    x_train, x_test, y_train, y_test = train_test_split(X_log, Y, test_size=0.2)\n",
    "\n",
    "    lr = LinearRegression(normalize=True)\n",
    "    lr.fit(x_train, y_train)\n",
    "\n",
    "    RMSE = 0\n",
    "    for sample, label in zip(x_test, y_test):\n",
    "        y_hat = lr.predict(sample.reshape(1, -1))\n",
    "        RMSE += pow(label - y_hat, 2)\n",
    "\n",
    "    RMSE = np.sqrt(RMSE / len(y_test))\n",
    "    total_RMSE.append(RMSE[0])\n",
    "\n",
    "mean = sum(total_RMSE) / REPEAT_TIMES\n",
    "print(mean)\n",
    "\n",
    "with open('RMSE_log.csv', mode='wt') as f:\n",
    "    f.write(str(total_RMSE))\n",
    "\n",
    "plt.xlim([min(total_RMSE) - 0.5, max(total_RMSE) + 0.5])\n",
    "plt.hist(total_RMSE, bins=30)\n",
    "plt.title('Test Set RMSE Frequency')\n",
    "plt.xlabel('RMSE')\n",
    "plt.ylabel('freq.')\n",
    "plt.savefig('RMSE_norm_log_hist.pdf')"
   ],
   "metadata": {
    "collapsed": false,
    "pycharm": {
     "name": "#%%\n"
    }
   }
  },
  {
   "cell_type": "code",
   "execution_count": 5,
   "outputs": [
    {
     "name": "stdout",
     "output_type": "stream",
     "text": [
      "[-5.43093987  0.1877063  -0.09757367 -1.81873533 -0.1407177  -1.16982523\n",
      " -0.86920674 -0.76705362]\n",
      "[-5.43093987  0.1877063  -0.09757367 -1.81873533 -0.1407177  -1.16982523\n",
      " -0.86920674 -0.76705362]\n"
     ]
    }
   ],
   "source": [
    "import pandas as pd\n",
    "import numpy as np\n",
    "from sklearn.model_selection import train_test_split, cross_validate  # 划分数据集函数\n",
    "from sklearn.linear_model import LinearRegression\n",
    "import matplotlib.pyplot as plt\n",
    "import warnings\n",
    "warnings.filterwarnings(\"ignore\")\n",
    "\n",
    "data_df = pd.read_csv('./cwurData.csv')  # 读入 csv 文件为 pandas 的 DataFrame\n",
    "data_df = data_df.dropna()  # 舍去包含 NaN 的 row\n",
    "\n",
    "feature_cols = ['quality_of_faculty', 'publications', 'citations', 'alumni_employment',\n",
    "                'influence', 'quality_of_education', 'broad_impact', 'patents']\n",
    "X = data_df[feature_cols].values\n",
    "Y = data_df['score'].values\n",
    "\n",
    "log = np.vectorize(lambda x: np.log(x))\n",
    "X_log = log(X)\n",
    "\n",
    "x_train, x_test, y_train, y_test = train_test_split(X_log, Y, test_size=0.2)\n",
    "\n",
    "lr = LinearRegression()\n",
    "lr.fit(x_train, y_train)\n",
    "\n",
    "lr_nm = LinearRegression(normalize=True)\n",
    "lr_nm.fit(x_train, y_train)\n",
    "print(lr.coef_)\n",
    "print(lr_nm.coef_)"
   ],
   "metadata": {
    "collapsed": false,
    "pycharm": {
     "name": "#%%\n"
    }
   }
  },
  {
   "cell_type": "markdown",
   "source": [
    "Coef_ stats"
   ],
   "metadata": {
    "collapsed": false
   }
  },
  {
   "cell_type": "code",
   "execution_count": 6,
   "outputs": [
    {
     "name": "stdout",
     "output_type": "stream",
     "text": [
      "                            OLS Regression Results                            \n",
      "==============================================================================\n",
      "Dep. Variable:                      y   R-squared:                       0.864\n",
      "Model:                            OLS   Adj. R-squared:                  0.863\n",
      "Method:                 Least Squares   F-statistic:                     1260.\n",
      "Date:                Sun, 03 Apr 2022   Prob (F-statistic):               0.00\n",
      "Time:                        13:42:47   Log-Likelihood:                -3574.3\n",
      "No. Observations:                1600   AIC:                             7167.\n",
      "Df Residuals:                    1591   BIC:                             7215.\n",
      "Df Model:                           8                                         \n",
      "Covariance Type:            nonrobust                                         \n",
      "==============================================================================\n",
      "                 coef    std err          t      P>|t|      [0.025      0.975]\n",
      "------------------------------------------------------------------------------\n",
      "const         99.0496      0.560    176.999      0.000      97.952     100.147\n",
      "x1            -4.7634      0.184    -25.918      0.000      -5.124      -4.403\n",
      "x2            -0.0140      0.196     -0.071      0.943      -0.398       0.370\n",
      "x3            -0.4918      0.187     -2.624      0.009      -0.859      -0.124\n",
      "x4            -1.8696      0.087    -21.368      0.000      -2.041      -1.698\n",
      "x5            -0.0229      0.216     -0.106      0.915      -0.446       0.401\n",
      "x6            -0.9368      0.134     -6.968      0.000      -1.201      -0.673\n",
      "x7            -0.6591      0.284     -2.320      0.020      -1.216      -0.102\n",
      "x8            -0.7862      0.086     -9.103      0.000      -0.956      -0.617\n",
      "==============================================================================\n",
      "Omnibus:                      905.423   Durbin-Watson:                   2.023\n",
      "Prob(Omnibus):                  0.000   Jarque-Bera (JB):            28494.768\n",
      "Skew:                           2.067   Prob(JB):                         0.00\n",
      "Kurtosis:                      23.256   Cond. No.                         165.\n",
      "==============================================================================\n",
      "\n",
      "Notes:\n",
      "[1] Standard Errors assume that the covariance matrix of the errors is correctly specified.\n"
     ]
    }
   ],
   "source": [
    "import pandas as pd\n",
    "import numpy as np\n",
    "from sklearn.model_selection import train_test_split, cross_validate  # 划分数据集函数\n",
    "from sklearn.linear_model import LinearRegression\n",
    "import matplotlib.pyplot as plt\n",
    "import statsmodels.api as sm\n",
    "\n",
    "data_df = pd.read_csv('./cwurData.csv')  # 读入 csv 文件为 pandas 的 DataFrame\n",
    "data_df = data_df.dropna()  # 舍去包含 NaN 的 row\n",
    "\n",
    "feature_cols = ['quality_of_faculty', 'publications', 'citations', 'alumni_employment',\n",
    "                'influence', 'quality_of_education', 'broad_impact', 'patents']\n",
    "X = data_df[feature_cols].values\n",
    "Y = data_df['score'].values\n",
    "\n",
    "log = np.vectorize(lambda x: np.log(x))\n",
    "X_log = log(X)\n",
    "\n",
    "x_train, x_test, y_train, y_test = train_test_split(X_log, Y, test_size=0.2)\n",
    "\n",
    "inv = sm.add_constant(x_train)  # independent variable\n",
    "mu = sm.OLS(y_train, inv)\n",
    "est = mu.fit()\n",
    "\n",
    "print(est.summary())"
   ],
   "metadata": {
    "collapsed": false,
    "pycharm": {
     "name": "#%%\n"
    }
   }
  },
  {
   "cell_type": "markdown",
   "source": [
    "上述系数有部分系数不显著！应排除多重共线性。。。先跑一次 robust"
   ],
   "metadata": {
    "collapsed": false
   }
  },
  {
   "cell_type": "code",
   "execution_count": 7,
   "outputs": [
    {
     "name": "stdout",
     "output_type": "stream",
     "text": [
      "                    Robust linear Model Regression Results                    \n",
      "==============================================================================\n",
      "Dep. Variable:                      y   No. Observations:                 1600\n",
      "Model:                            RLM   Df Residuals:                     1591\n",
      "Method:                          IRLS   Df Model:                            8\n",
      "Norm:                          HuberT                                         \n",
      "Scale Est.:                       mad                                         \n",
      "Cov Type:                          H1                                         \n",
      "Date:                Sun, 03 Apr 2022                                         \n",
      "Time:                        17:09:07                                         \n",
      "No. Iterations:                    50                                         \n",
      "==============================================================================\n",
      "                 coef    std err          z      P>|z|      [0.025      0.975]\n",
      "------------------------------------------------------------------------------\n",
      "const         79.7950      0.136    585.393      0.000      79.528      80.062\n",
      "x1            -2.6209      0.045    -58.545      0.000      -2.709      -2.533\n",
      "x2            -0.3998      0.048     -8.379      0.000      -0.493      -0.306\n",
      "x3            -0.3281      0.046     -7.188      0.000      -0.418      -0.239\n",
      "x4            -0.8122      0.021    -38.109      0.000      -0.854      -0.770\n",
      "x5             0.0475      0.053      0.903      0.367      -0.056       0.151\n",
      "x6            -0.4604      0.033    -14.058      0.000      -0.525      -0.396\n",
      "x7            -0.9868      0.069    -14.258      0.000      -1.122      -0.851\n",
      "x8            -0.4519      0.021    -21.483      0.000      -0.493      -0.411\n",
      "==============================================================================\n",
      "\n",
      "If the model instance has been used for another fit with different fit parameters, then the fit options might not be the correct ones anymore .\n"
     ]
    }
   ],
   "source": [
    "inv = sm.add_constant(x_train)  # independent variable\n",
    "mu = sm.RLM(y_train, inv, M=sm.robust.norms.HuberT())\n",
    "est = mu.fit()\n",
    "\n",
    "print(est.summary())"
   ],
   "metadata": {
    "collapsed": false,
    "pycharm": {
     "name": "#%%\n"
    }
   }
  },
  {
   "cell_type": "code",
   "execution_count": 17,
   "outputs": [
    {
     "name": "stdout",
     "output_type": "stream",
     "text": [
      "<class 'statsmodels.regression.linear_model.RegressionResultsWrapper'>\n"
     ]
    }
   ],
   "source": [
    "inv = sm.add_constant(x_train)  # independent variable\n",
    "mu_OLS = sm.OLS(y_train, inv)\n",
    "est = mu_OLS.fit()\n",
    "\n",
    "print(type(est))"
   ],
   "metadata": {
    "collapsed": false,
    "pycharm": {
     "name": "#%%\n"
    }
   }
  },
  {
   "cell_type": "code",
   "execution_count": 19,
   "outputs": [
    {
     "name": "stdout",
     "output_type": "stream",
     "text": [
      "[ 9.90495618e+01 -4.76337158e+00 -1.39594956e-02 -4.91752310e-01\n",
      " -1.86955119e+00 -2.29209690e-02 -9.36834517e-01 -6.59121105e-01\n",
      " -7.86150294e-01]\n"
     ]
    }
   ],
   "source": [
    "print(est.params)"
   ],
   "metadata": {
    "collapsed": false,
    "pycharm": {
     "name": "#%%\n"
    }
   }
  },
  {
   "cell_type": "code",
   "execution_count": 27,
   "outputs": [
    {
     "name": "stdout",
     "output_type": "stream",
     "text": [
      "[1 2 3 4 5]\n"
     ]
    }
   ],
   "source": [
    "x = np.array([1,2,3,4,5])\n",
    "np.insert(x, 0, 6)\n",
    "print(x)"
   ],
   "metadata": {
    "collapsed": false,
    "pycharm": {
     "name": "#%%\n"
    }
   }
  },
  {
   "cell_type": "code",
   "execution_count": 28,
   "outputs": [
    {
     "name": "stdout",
     "output_type": "stream",
     "text": [
      "2.6620703977099858\n"
     ]
    }
   ],
   "source": [
    "coef = est.params\n",
    "RMSE = 0\n",
    "for row, label in zip(x_test,y_test):\n",
    "    x_use = np.insert(row, 0, 1)\n",
    "    hat_y = np.dot(x_use, coef)\n",
    "    RMSE += pow(label-hat_y, 2)\n",
    "\n",
    "RMSE = np.sqrt(RMSE / len(y_test))\n",
    "print(RMSE)"
   ],
   "metadata": {
    "collapsed": false,
    "pycharm": {
     "name": "#%%\n"
    }
   }
  },
  {
   "cell_type": "code",
   "execution_count": 29,
   "outputs": [
    {
     "name": "stdout",
     "output_type": "stream",
     "text": [
      "4.199673784237094\n"
     ]
    }
   ],
   "source": [
    "est_rubost = mu.fit()\n",
    "coef = est_rubost.params\n",
    "RMSE = 0\n",
    "for row, label in zip(x_test,y_test):\n",
    "    x_use = np.insert(row, 0, 1)\n",
    "    hat_y = np.dot(x_use, coef)\n",
    "    RMSE += pow(label-hat_y, 2)\n",
    "\n",
    "RMSE = np.sqrt(RMSE / len(y_test))\n",
    "print(RMSE)"
   ],
   "metadata": {
    "collapsed": false,
    "pycharm": {
     "name": "#%%\n"
    }
   }
  },
  {
   "cell_type": "markdown",
   "source": [
    "反而变大了？过学习了？"
   ],
   "metadata": {
    "collapsed": false
   }
  },
  {
   "cell_type": "code",
   "execution_count": 30,
   "outputs": [
    {
     "name": "stdout",
     "output_type": "stream",
     "text": [
      "                            OLS Regression Results                            \n",
      "==============================================================================\n",
      "Dep. Variable:                      y   R-squared:                       0.885\n",
      "Model:                            OLS   Adj. R-squared:                  0.884\n",
      "Method:                 Least Squares   F-statistic:                     2037.\n",
      "Date:                Sun, 03 Apr 2022   Prob (F-statistic):               0.00\n",
      "Time:                        17:36:18   Log-Likelihood:                -3645.5\n",
      "No. Observations:                1600   AIC:                             7305.\n",
      "Df Residuals:                    1593   BIC:                             7343.\n",
      "Df Model:                           6                                         \n",
      "Covariance Type:            nonrobust                                         \n",
      "==============================================================================\n",
      "                 coef    std err          t      P>|t|      [0.025      0.975]\n",
      "------------------------------------------------------------------------------\n",
      "const        102.1106      0.523    195.361      0.000     101.085     103.136\n",
      "x1            -5.4192      0.183    -29.549      0.000      -5.779      -5.059\n",
      "x2            -0.2168      0.196     -1.107      0.268      -0.601       0.167\n",
      "x3            -1.8619      0.089    -20.844      0.000      -2.037      -1.687\n",
      "x4            -1.0398      0.139     -7.476      0.000      -1.313      -0.767\n",
      "x5            -0.8284      0.189     -4.373      0.000      -1.200      -0.457\n",
      "x6            -0.7686      0.086     -8.896      0.000      -0.938      -0.599\n",
      "==============================================================================\n",
      "Omnibus:                      607.393   Durbin-Watson:                   2.097\n",
      "Prob(Omnibus):                  0.000   Jarque-Bera (JB):            11520.988\n",
      "Skew:                           1.285   Prob(JB):                         0.00\n",
      "Kurtosis:                      15.892   Cond. No.                         126.\n",
      "==============================================================================\n",
      "\n",
      "Notes:\n",
      "[1] Standard Errors assume that the covariance matrix of the errors is correctly specified.\n"
     ]
    }
   ],
   "source": [
    "feature_cols_significant = ['quality_of_faculty', 'citations', 'alumni_employment',\n",
    "                'quality_of_education', 'broad_impact', 'patents']\n",
    "X_sig = data_df[feature_cols_significant].values\n",
    "# Y = data_df['score'].values\n",
    "\n",
    "log = np.vectorize(lambda x: np.log(x))\n",
    "X_sig_log = log(X_sig)\n",
    "\n",
    "x_train, x_test, y_train, y_test = train_test_split(X_sig_log, Y, test_size=0.2)\n",
    "\n",
    "inv = sm.add_constant(x_train)  # independent variable\n",
    "mu = sm.OLS(y_train, inv)\n",
    "est = mu.fit()\n",
    "\n",
    "print(est.summary())"
   ],
   "metadata": {
    "collapsed": false,
    "pycharm": {
     "name": "#%%\n"
    }
   }
  },
  {
   "cell_type": "code",
   "execution_count": 31,
   "outputs": [
    {
     "name": "stdout",
     "output_type": "stream",
     "text": [
      "2.218682530281906\n"
     ]
    }
   ],
   "source": [
    "coef = est.params\n",
    "RMSE = 0\n",
    "for row, label in zip(x_test,y_test):\n",
    "    x_use = np.insert(row, 0, 1)\n",
    "    hat_y = np.dot(x_use, coef)\n",
    "    RMSE += pow(label-hat_y, 2)\n",
    "\n",
    "RMSE = np.sqrt(RMSE / len(y_test))\n",
    "print(RMSE)"
   ],
   "metadata": {
    "collapsed": false,
    "pycharm": {
     "name": "#%%\n"
    }
   }
  },
  {
   "cell_type": "markdown",
   "source": [],
   "metadata": {
    "collapsed": false
   }
  },
  {
   "cell_type": "code",
   "execution_count": 32,
   "outputs": [
    {
     "name": "stdout",
     "output_type": "stream",
     "text": [
      "2.3510077112134367\n"
     ]
    },
    {
     "data": {
      "text/plain": "<Figure size 432x288 with 1 Axes>",
      "image/png": "[encoded data removed]"
     },
     "metadata": {
      "needs_background": "light"
     },
     "output_type": "display_data"
    }
   ],
   "source": [
    "import pandas as pd\n",
    "import numpy as np\n",
    "from sklearn.model_selection import train_test_split, cross_validate  # 划分数据集函数\n",
    "from sklearn.linear_model import LinearRegression\n",
    "import matplotlib.pyplot as plt\n",
    "\n",
    "data_df = pd.read_csv('./cwurData.csv')  # 读入 csv 文件为 pandas 的 DataFrame\n",
    "data_df = data_df.dropna()  # 舍去包含 NaN 的 row\n",
    "\n",
    "feature_cols = ['quality_of_faculty', 'citations', 'alumni_employment',\n",
    "                'quality_of_education', 'broad_impact', 'patents']\n",
    "X = data_df[feature_cols].values\n",
    "Y = data_df['score'].values\n",
    "\n",
    "log = np.vectorize(lambda x: np.log(x))\n",
    "X_log = log(X)\n",
    "\n",
    "total_RMSE = []\n",
    "REPEAT_TIMES = 10000\n",
    "\n",
    "for i in range(0, REPEAT_TIMES):\n",
    "    x_train, x_test, y_train, y_test = train_test_split(X_log, Y, test_size=0.2)\n",
    "\n",
    "    lr = LinearRegression()\n",
    "    lr.fit(x_train, y_train)\n",
    "\n",
    "    RMSE = 0\n",
    "    for sample, label in zip(x_test, y_test):\n",
    "        y_hat = lr.predict(sample.reshape(1, -1))\n",
    "        RMSE += pow(label - y_hat, 2)\n",
    "\n",
    "    RMSE = np.sqrt(RMSE / len(y_test))\n",
    "    total_RMSE.append(RMSE[0])\n",
    "\n",
    "mean = sum(total_RMSE) / REPEAT_TIMES\n",
    "print(mean)\n",
    "\n",
    "with open('RMSE_trimmed.csv', mode='wt') as f:\n",
    "    f.write(str(total_RMSE))\n",
    "\n",
    "plt.xlim([min(total_RMSE) - 0.5, max(total_RMSE) + 0.5])\n",
    "plt.hist(total_RMSE, bins=30)\n",
    "plt.title('Test Set RMSE Frequency')\n",
    "plt.xlabel('RMSE')\n",
    "plt.ylabel('freq.')\n",
    "plt.savefig('RMSE_trimmed_hist.pdf')"
   ],
   "metadata": {
    "collapsed": false,
    "pycharm": {
     "name": "#%%\n"
    }
   }
  },
  {
   "cell_type": "markdown",
   "source": [
    "降了一点，但是不显著"
   ],
   "metadata": {
    "collapsed": false
   }
  },
  {
   "cell_type": "code",
   "execution_count": 33,
   "outputs": [
    {
     "name": "stdout",
     "output_type": "stream",
     "text": [
      "                            OLS Regression Results                            \n",
      "==============================================================================\n",
      "Dep. Variable:                      y   R-squared:                       0.864\n",
      "Model:                            OLS   Adj. R-squared:                  0.863\n",
      "Method:                 Least Squares   F-statistic:                     1680.\n",
      "Date:                Sun, 03 Apr 2022   Prob (F-statistic):               0.00\n",
      "Time:                        17:41:43   Log-Likelihood:                -3620.1\n",
      "No. Observations:                1600   AIC:                             7254.\n",
      "Df Residuals:                    1593   BIC:                             7292.\n",
      "Df Model:                           6                                         \n",
      "Covariance Type:            nonrobust                                         \n",
      "==============================================================================\n",
      "                 coef    std err          t      P>|t|      [0.025      0.975]\n",
      "------------------------------------------------------------------------------\n",
      "const        100.9348      0.570    177.075      0.000      99.817     102.053\n",
      "x1            -5.1610      0.187    -27.631      0.000      -5.527      -4.795\n",
      "x2            -0.2209      0.192     -1.154      0.249      -0.597       0.155\n",
      "x3            -1.7650      0.090    -19.687      0.000      -1.941      -1.589\n",
      "x4            -1.1429      0.139     -8.241      0.000      -1.415      -0.871\n",
      "x5            -0.7912      0.185     -4.282      0.000      -1.154      -0.429\n",
      "x6            -0.8266      0.086     -9.628      0.000      -0.995      -0.658\n",
      "==============================================================================\n",
      "Omnibus:                      744.001   Durbin-Watson:                   1.967\n",
      "Prob(Omnibus):                  0.000   Jarque-Bera (JB):            18583.355\n",
      "Skew:                           1.616   Prob(JB):                         0.00\n",
      "Kurtosis:                      19.380   Cond. No.                         140.\n",
      "==============================================================================\n",
      "\n",
      "Notes:\n",
      "[1] Standard Errors assume that the covariance matrix of the errors is correctly specified.\n"
     ]
    }
   ],
   "source": [
    "feature_cols_si2 = ['quality_of_faculty', 'publications', 'alumni_employment',\n",
    "                    'quality_of_education', 'broad_impact', 'patents']\n",
    "X_sig = data_df[feature_cols_significant].values\n",
    "# Y = data_df['score'].values\n",
    "\n",
    "log = np.vectorize(lambda x: np.log(x))\n",
    "X_sig_log = log(X_sig)\n",
    "\n",
    "x_train, x_test, y_train, y_test = train_test_split(X_sig_log, Y, test_size=0.2)\n",
    "\n",
    "inv = sm.add_constant(x_train)  # independent variable\n",
    "mu = sm.OLS(y_train, inv)\n",
    "est = mu.fit()\n",
    "\n",
    "print(est.summary())"
   ],
   "metadata": {
    "collapsed": false,
    "pycharm": {
     "name": "#%%\n"
    }
   }
  },
  {
   "cell_type": "code",
   "execution_count": 34,
   "outputs": [
    {
     "name": "stdout",
     "output_type": "stream",
     "text": [
      "                            OLS Regression Results                            \n",
      "==============================================================================\n",
      "Dep. Variable:                      y   R-squared:                       0.880\n",
      "Model:                            OLS   Adj. R-squared:                  0.879\n",
      "Method:                 Least Squares   F-statistic:                     1941.\n",
      "Date:                Sun, 03 Apr 2022   Prob (F-statistic):               0.00\n",
      "Time:                        17:42:35   Log-Likelihood:                -3602.4\n",
      "No. Observations:                1600   AIC:                             7219.\n",
      "Df Residuals:                    1593   BIC:                             7256.\n",
      "Df Model:                           6                                         \n",
      "Covariance Type:            nonrobust                                         \n",
      "==============================================================================\n",
      "                 coef    std err          t      P>|t|      [0.025      0.975]\n",
      "------------------------------------------------------------------------------\n",
      "const        101.9182      0.535    190.470      0.000     100.869     102.968\n",
      "x1            -5.2226      0.177    -29.545      0.000      -5.569      -4.876\n",
      "x2            -0.2090      0.188     -1.114      0.265      -0.577       0.159\n",
      "x3            -1.8676      0.087    -21.551      0.000      -2.038      -1.698\n",
      "x4            -1.1507      0.133     -8.624      0.000      -1.412      -0.889\n",
      "x5            -0.7851      0.182     -4.304      0.000      -1.143      -0.427\n",
      "x6            -0.8485      0.085     -9.940      0.000      -1.016      -0.681\n",
      "==============================================================================\n",
      "Omnibus:                      607.730   Durbin-Watson:                   2.013\n",
      "Prob(Omnibus):                  0.000   Jarque-Bera (JB):            12399.600\n",
      "Skew:                           1.264   Prob(JB):                         0.00\n",
      "Kurtosis:                      16.402   Cond. No.                         132.\n",
      "==============================================================================\n",
      "\n",
      "Notes:\n",
      "[1] Standard Errors assume that the covariance matrix of the errors is correctly specified.\n"
     ]
    }
   ],
   "source": [
    "feature_cols_si2 = ['quality_of_faculty', 'alumni_employment',\n",
    "                    'influence', 'quality_of_education', 'broad_impact', 'patents']\n",
    "X_sig = data_df[feature_cols_significant].values\n",
    "# Y = data_df['score'].values\n",
    "\n",
    "log = np.vectorize(lambda x: np.log(x))\n",
    "X_sig_log = log(X_sig)\n",
    "\n",
    "x_train, x_test, y_train, y_test = train_test_split(X_sig_log, Y, test_size=0.2)\n",
    "\n",
    "inv = sm.add_constant(x_train)  # independent variable\n",
    "mu = sm.OLS(y_train, inv)\n",
    "est = mu.fit()\n",
    "\n",
    "print(est.summary())"
   ],
   "metadata": {
    "collapsed": false,
    "pycharm": {
     "name": "#%%\n"
    }
   }
  },
  {
   "cell_type": "markdown",
   "source": [
    "尝试用固定的样本集进行划分："
   ],
   "metadata": {
    "collapsed": false
   }
  },
  {
   "cell_type": "code",
   "execution_count": 35,
   "outputs": [],
   "source": [
    "train_df = data_df.sample(frac = 0.8)\n",
    "test_df = data_df.drop(train_df.index)"
   ],
   "metadata": {
    "collapsed": false,
    "pycharm": {
     "name": "#%%\n"
    }
   }
  },
  {
   "cell_type": "code",
   "execution_count": 47,
   "outputs": [],
   "source": [
    "Y_train = train_df[\"score\"]\n",
    "Y_test = test_df[\"score\"]\n",
    "\n",
    "feature_cols = ['quality_of_faculty', 'publications', 'citations', 'alumni_employment',\n",
    "                'influence', 'quality_of_education', 'broad_impact', 'patents']\n",
    "for column in feature_cols:\n",
    "    train_df['log_' + column] = np.log2(train_df[column])\n",
    "    test_df['log_' + column] = np.log2(test_df[column])\n",
    "\n",
    "def cal_RMSE(coef, X_test):\n",
    "    RMSE = 0\n",
    "    for row, label in zip(X_test,Y_test):\n",
    "        x_use = np.insert(row, 0, 1)\n",
    "        hat_y = np.dot(x_use, coef)\n",
    "        RMSE += pow(label-hat_y, 2)\n",
    "\n",
    "    RMSE = np.sqrt(RMSE / len(y_test))\n",
    "    print('RMSE= ', RMSE)"
   ],
   "metadata": {
    "collapsed": false,
    "pycharm": {
     "name": "#%%\n"
    }
   }
  },
  {
   "cell_type": "code",
   "execution_count": 45,
   "outputs": [
    {
     "name": "stdout",
     "output_type": "stream",
     "text": [
      "                            OLS Regression Results                            \n",
      "==============================================================================\n",
      "Dep. Variable:                  score   R-squared:                       0.596\n",
      "Model:                            OLS   Adj. R-squared:                  0.594\n",
      "Method:                 Least Squares   F-statistic:                     293.5\n",
      "Date:                Sun, 03 Apr 2022   Prob (F-statistic):          1.19e-306\n",
      "Time:                        18:05:03   Log-Likelihood:                -4597.9\n",
      "No. Observations:                1600   AIC:                             9214.\n",
      "Df Residuals:                    1591   BIC:                             9262.\n",
      "Df Model:                           8                                         \n",
      "Covariance Type:            nonrobust                                         \n",
      "========================================================================================\n",
      "                           coef    std err          t      P>|t|      [0.025      0.975]\n",
      "----------------------------------------------------------------------------------------\n",
      "const                   66.1695      0.426    155.330      0.000      65.334      67.005\n",
      "quality_of_faculty      -0.0662      0.003    -21.969      0.000      -0.072      -0.060\n",
      "publications             0.0002      0.001      0.243      0.808      -0.002       0.002\n",
      "citations             1.699e-05      0.001      0.020      0.984      -0.002       0.002\n",
      "alumni_employment       -0.0069      0.001     -9.079      0.000      -0.008      -0.005\n",
      "influence                0.0007      0.001      0.780      0.436      -0.001       0.003\n",
      "quality_of_education    -0.0060      0.001     -3.980      0.000      -0.009      -0.003\n",
      "broad_impact            -0.0026      0.001     -1.966      0.049      -0.005   -6.15e-06\n",
      "patents                 -0.0025      0.001     -4.669      0.000      -0.004      -0.001\n",
      "==============================================================================\n",
      "Omnibus:                     1344.217   Durbin-Watson:                   2.033\n",
      "Prob(Omnibus):                  0.000   Jarque-Bera (JB):            49411.546\n",
      "Skew:                           3.723   Prob(JB):                         0.00\n",
      "Kurtosis:                      29.186   Cond. No.                     5.22e+03\n",
      "==============================================================================\n",
      "\n",
      "Notes:\n",
      "[1] Standard Errors assume that the covariance matrix of the errors is correctly specified.\n",
      "[2] The condition number is large, 5.22e+03. This might indicate that there are\n",
      "strong multicollinearity or other numerical problems.\n",
      "RMSE=  3.9588631253563733\n"
     ]
    }
   ],
   "source": [
    "X1 = train_df[feature_cols]\n",
    "X1 = sm.add_constant(X1)\n",
    "M1 = sm.OLS(Y_train, X1)\n",
    "E1 = M1.fit()\n",
    "\n",
    "print(E1.summary())\n",
    "\n",
    "X1_test = test_df[feature_cols].values\n",
    "cal_RMSE(E1.params, X1_test)"
   ],
   "metadata": {
    "collapsed": false,
    "pycharm": {
     "name": "#%%\n"
    }
   }
  },
  {
   "cell_type": "code",
   "execution_count": 48,
   "outputs": [
    {
     "name": "stdout",
     "output_type": "stream",
     "text": [
      "                            OLS Regression Results                            \n",
      "==============================================================================\n",
      "Dep. Variable:                  score   R-squared:                       0.882\n",
      "Model:                            OLS   Adj. R-squared:                  0.882\n",
      "Method:                 Least Squares   F-statistic:                     1494.\n",
      "Date:                Sun, 03 Apr 2022   Prob (F-statistic):               0.00\n",
      "Time:                        18:06:40   Log-Likelihood:                -3610.1\n",
      "No. Observations:                1600   AIC:                             7238.\n",
      "Df Residuals:                    1591   BIC:                             7287.\n",
      "Df Model:                           8                                         \n",
      "Covariance Type:            nonrobust                                         \n",
      "============================================================================================\n",
      "                               coef    std err          t      P>|t|      [0.025      0.975]\n",
      "--------------------------------------------------------------------------------------------\n",
      "const                      101.4632      0.528    192.144      0.000     100.427     102.499\n",
      "log_quality_of_faculty      -3.5930      0.130    -27.538      0.000      -3.849      -3.337\n",
      "log_publications            -0.0075      0.140     -0.054      0.957      -0.281       0.266\n",
      "log_citations               -0.1251      0.132     -0.952      0.341      -0.383       0.133\n",
      "log_alumni_employment       -1.3007      0.063    -20.678      0.000      -1.424      -1.177\n",
      "log_influence               -0.0813      0.154     -0.527      0.598      -0.384       0.221\n",
      "log_quality_of_education    -0.7447      0.096     -7.741      0.000      -0.933      -0.556\n",
      "log_broad_impact            -0.5720      0.207     -2.769      0.006      -0.977      -0.167\n",
      "log_patents                 -0.5032      0.062     -8.172      0.000      -0.624      -0.382\n",
      "==============================================================================\n",
      "Omnibus:                      699.177   Durbin-Watson:                   2.017\n",
      "Prob(Omnibus):                  0.000   Jarque-Bera (JB):            16265.043\n",
      "Skew:                           1.500   Prob(JB):                         0.00\n",
      "Kurtosis:                      18.329   Cond. No.                         217.\n",
      "==============================================================================\n",
      "\n",
      "Notes:\n",
      "[1] Standard Errors assume that the covariance matrix of the errors is correctly specified.\n",
      "RMSE=  2.4115927046045162\n"
     ]
    }
   ],
   "source": [
    "X2 = train_df[['log_'+col for col in feature_cols]]\n",
    "X2 = sm.add_constant(X2)\n",
    "M2 = sm.OLS(Y_train, X2)\n",
    "E2 = M2.fit()\n",
    "\n",
    "print(E2.summary())\n",
    "\n",
    "X2_test = test_df[['log_'+col for col in feature_cols]].values\n",
    "cal_RMSE(E2.params, X2_test)"
   ],
   "metadata": {
    "collapsed": false,
    "pycharm": {
     "name": "#%%\n"
    }
   }
  },
  {
   "cell_type": "code",
   "execution_count": 50,
   "outputs": [
    {
     "name": "stdout",
     "output_type": "stream",
     "text": [
      "                            OLS Regression Results                            \n",
      "==============================================================================\n",
      "Dep. Variable:                  score   R-squared:                       0.898\n",
      "Model:                            OLS   Adj. R-squared:                  0.898\n",
      "Method:                 Least Squares   F-statistic:                     1753.\n",
      "Date:                Sun, 03 Apr 2022   Prob (F-statistic):               0.00\n",
      "Time:                        18:34:30   Log-Likelihood:                -3496.0\n",
      "No. Observations:                1600   AIC:                             7010.\n",
      "Df Residuals:                    1591   BIC:                             7058.\n",
      "Df Model:                           8                                         \n",
      "Covariance Type:            nonrobust                                         \n",
      "============================================================================================\n",
      "                               coef    std err          t      P>|t|      [0.025      0.975]\n",
      "--------------------------------------------------------------------------------------------\n",
      "const                      105.8834      0.558    189.665      0.000     104.788     106.978\n",
      "log_quality_of_faculty      -2.9708      0.124    -24.007      0.000      -3.214      -2.728\n",
      "publications                 0.0027      0.000      6.380      0.000       0.002       0.003\n",
      "citations                    0.0025      0.000      5.932      0.000       0.002       0.003\n",
      "log_alumni_employment       -1.2853      0.057    -22.616      0.000      -1.397      -1.174\n",
      "influence                    0.0021      0.000      5.101      0.000       0.001       0.003\n",
      "log_quality_of_education    -0.8767      0.089     -9.856      0.000      -1.051      -0.702\n",
      "log_broad_impact            -2.1128      0.108    -19.509      0.000      -2.325      -1.900\n",
      "log_patents                 -0.5383      0.057     -9.510      0.000      -0.649      -0.427\n",
      "==============================================================================\n",
      "Omnibus:                      795.730   Durbin-Watson:                   2.004\n",
      "Prob(Omnibus):                  0.000   Jarque-Bera (JB):            17731.472\n",
      "Skew:                           1.817   Prob(JB):                         0.00\n",
      "Kurtosis:                      18.899   Cond. No.                     9.84e+03\n",
      "==============================================================================\n",
      "\n",
      "Notes:\n",
      "[1] Standard Errors assume that the covariance matrix of the errors is correctly specified.\n",
      "[2] The condition number is large, 9.84e+03. This might indicate that there are\n",
      "strong multicollinearity or other numerical problems.\n",
      "RMSE=  2.2957099565288828\n"
     ]
    }
   ],
   "source": [
    "col3 = ['log_quality_of_faculty', 'publications', 'citations', 'log_alumni_employment',\n",
    "        'influence', 'log_quality_of_education', 'log_broad_impact', 'log_patents']\n",
    "X3 = train_df[col3]\n",
    "X3 = sm.add_constant(X3)\n",
    "M3 = sm.OLS(Y_train, X3)\n",
    "E3 = M3.fit()\n",
    "\n",
    "print(E3.summary())\n",
    "\n",
    "X3_test = test_df[col3].values\n",
    "cal_RMSE(E3.params, X3_test)"
   ],
   "metadata": {
    "collapsed": false,
    "pycharm": {
     "name": "#%%\n"
    }
   }
  },
  {
   "cell_type": "code",
   "execution_count": 51,
   "outputs": [
    {
     "name": "stdout",
     "output_type": "stream",
     "text": [
      "                            OLS Regression Results                            \n",
      "==============================================================================\n",
      "Dep. Variable:                  score   R-squared:                       0.896\n",
      "Model:                            OLS   Adj. R-squared:                  0.895\n",
      "Method:                 Least Squares   F-statistic:                     1949.\n",
      "Date:                Sun, 03 Apr 2022   Prob (F-statistic):               0.00\n",
      "Time:                        19:49:34   Log-Likelihood:                -3516.2\n",
      "No. Observations:                1600   AIC:                             7048.\n",
      "Df Residuals:                    1592   BIC:                             7091.\n",
      "Df Model:                           7                                         \n",
      "Covariance Type:            nonrobust                                         \n",
      "============================================================================================\n",
      "                               coef    std err          t      P>|t|      [0.025      0.975]\n",
      "--------------------------------------------------------------------------------------------\n",
      "const                      105.1426      0.553    190.192      0.000     104.058     106.227\n",
      "log_quality_of_faculty      -3.1311      0.123    -25.525      0.000      -3.372      -2.891\n",
      "citations                    0.0030      0.000      7.159      0.000       0.002       0.004\n",
      "log_alumni_employment       -1.2781      0.058    -22.218      0.000      -1.391      -1.165\n",
      "influence                    0.0032      0.000      8.328      0.000       0.002       0.004\n",
      "log_quality_of_education    -0.8642      0.090     -9.599      0.000      -1.041      -0.688\n",
      "log_broad_impact            -1.8967      0.104    -18.214      0.000      -2.101      -1.692\n",
      "log_patents                 -0.4790      0.057     -8.474      0.000      -0.590      -0.368\n",
      "==============================================================================\n",
      "Omnibus:                      774.932   Durbin-Watson:                   2.005\n",
      "Prob(Omnibus):                  0.000   Jarque-Bera (JB):            16775.040\n",
      "Skew:                           1.759   Prob(JB):                         0.00\n",
      "Kurtosis:                      18.468   Cond. No.                     7.73e+03\n",
      "==============================================================================\n",
      "\n",
      "Notes:\n",
      "[1] Standard Errors assume that the covariance matrix of the errors is correctly specified.\n",
      "[2] The condition number is large, 7.73e+03. This might indicate that there are\n",
      "strong multicollinearity or other numerical problems.\n",
      "RMSE=  2.3277982380523254\n"
     ]
    }
   ],
   "source": [
    "col4 = ['log_quality_of_faculty', 'citations', 'log_alumni_employment',\n",
    "        'influence', 'log_quality_of_education', 'log_broad_impact', 'log_patents']\n",
    "X4 = train_df[col4]\n",
    "X4 = sm.add_constant(X4)\n",
    "M4 = sm.OLS(Y_train, X4)\n",
    "E4 = M4.fit()\n",
    "\n",
    "print(E4.summary())\n",
    "\n",
    "X4_test = test_df[col4].values\n",
    "cal_RMSE(E4.params, X4_test)"
   ],
   "metadata": {
    "collapsed": false,
    "pycharm": {
     "name": "#%%\n"
    }
   }
  },
  {
   "cell_type": "code",
   "execution_count": 52,
   "outputs": [
    {
     "name": "stdout",
     "output_type": "stream",
     "text": [
      "                            OLS Regression Results                            \n",
      "==============================================================================\n",
      "Dep. Variable:                  score   R-squared:                       0.896\n",
      "Model:                            OLS   Adj. R-squared:                  0.895\n",
      "Method:                 Least Squares   F-statistic:                     1956.\n",
      "Date:                Sun, 03 Apr 2022   Prob (F-statistic):               0.00\n",
      "Time:                        19:56:05   Log-Likelihood:                -3513.5\n",
      "No. Observations:                1600   AIC:                             7043.\n",
      "Df Residuals:                    1592   BIC:                             7086.\n",
      "Df Model:                           7                                         \n",
      "Covariance Type:            nonrobust                                         \n",
      "============================================================================================\n",
      "                               coef    std err          t      P>|t|      [0.025      0.975]\n",
      "--------------------------------------------------------------------------------------------\n",
      "const                      105.2670      0.554    189.886      0.000     104.180     106.354\n",
      "log_quality_of_faculty      -3.0262      0.125    -24.266      0.000      -3.271      -2.782\n",
      "publications                 0.0031      0.000      7.538      0.000       0.002       0.004\n",
      "log_alumni_employment       -1.2686      0.057    -22.113      0.000      -1.381      -1.156\n",
      "influence                    0.0028      0.000      6.977      0.000       0.002       0.004\n",
      "log_quality_of_education    -0.8796      0.090     -9.785      0.000      -1.056      -0.703\n",
      "log_broad_impact            -1.9287      0.105    -18.393      0.000      -2.134      -1.723\n",
      "log_patents                 -0.5524      0.057     -9.664      0.000      -0.664      -0.440\n",
      "==============================================================================\n",
      "Omnibus:                      780.585   Durbin-Watson:                   2.005\n",
      "Prob(Omnibus):                  0.000   Jarque-Bera (JB):            17140.652\n",
      "Skew:                           1.773   Prob(JB):                         0.00\n",
      "Kurtosis:                      18.638   Cond. No.                     8.22e+03\n",
      "==============================================================================\n",
      "\n",
      "Notes:\n",
      "[1] Standard Errors assume that the covariance matrix of the errors is correctly specified.\n",
      "[2] The condition number is large, 8.22e+03. This might indicate that there are\n",
      "strong multicollinearity or other numerical problems.\n",
      "RMSE=  2.3014161671850846\n"
     ]
    }
   ],
   "source": [
    "col5 = ['log_quality_of_faculty', 'publications', 'log_alumni_employment',\n",
    "        'influence', 'log_quality_of_education', 'log_broad_impact', 'log_patents']\n",
    "X5 = train_df[col5]\n",
    "X5 = sm.add_constant(X5)\n",
    "M5 = sm.OLS(Y_train, X5)\n",
    "E5 = M5.fit()\n",
    "\n",
    "print(E5.summary())\n",
    "\n",
    "X5_test = test_df[col5].values\n",
    "cal_RMSE(E5.params, X5_test)"
   ],
   "metadata": {
    "collapsed": false,
    "pycharm": {
     "name": "#%%\n"
    }
   }
  },
  {
   "cell_type": "code",
   "execution_count": 53,
   "outputs": [],
   "source": [
    "def evaluate(col):\n",
    "    X = train_df[col]\n",
    "    X = sm.add_constant(X)\n",
    "    M = sm.OLS(Y_train, X)\n",
    "    E = M.fit()\n",
    "\n",
    "    print(E.summary())\n",
    "\n",
    "    X_test = test_df[col].values\n",
    "    cal_RMSE(E.params, X_test)\n",
    "    return E"
   ],
   "metadata": {
    "collapsed": false,
    "pycharm": {
     "name": "#%%\n"
    }
   }
  },
  {
   "cell_type": "code",
   "execution_count": 54,
   "outputs": [
    {
     "name": "stdout",
     "output_type": "stream",
     "text": [
      "                            OLS Regression Results                            \n",
      "==============================================================================\n",
      "Dep. Variable:                  score   R-squared:                       0.896\n",
      "Model:                            OLS   Adj. R-squared:                  0.896\n",
      "Method:                 Least Squares   F-statistic:                     1969.\n",
      "Date:                Sun, 03 Apr 2022   Prob (F-statistic):               0.00\n",
      "Time:                        20:07:22   Log-Likelihood:                -3509.0\n",
      "No. Observations:                1600   AIC:                             7034.\n",
      "Df Residuals:                    1592   BIC:                             7077.\n",
      "Df Model:                           7                                         \n",
      "Covariance Type:            nonrobust                                         \n",
      "============================================================================================\n",
      "                               coef    std err          t      P>|t|      [0.025      0.975]\n",
      "--------------------------------------------------------------------------------------------\n",
      "const                      105.4320      0.556    189.788      0.000     104.342     106.522\n",
      "log_quality_of_faculty      -3.0272      0.124    -24.371      0.000      -3.271      -2.784\n",
      "publications                 0.0035      0.000      9.189      0.000       0.003       0.004\n",
      "citations                    0.0031      0.000      7.614      0.000       0.002       0.004\n",
      "log_alumni_employment       -1.3119      0.057    -23.002      0.000      -1.424      -1.200\n",
      "log_quality_of_education    -0.8419      0.089     -9.419      0.000      -1.017      -0.667\n",
      "log_broad_impact            -1.9508      0.104    -18.696      0.000      -2.155      -1.746\n",
      "log_patents                 -0.5637      0.057     -9.920      0.000      -0.675      -0.452\n",
      "==============================================================================\n",
      "Omnibus:                      791.178   Durbin-Watson:                   2.012\n",
      "Prob(Omnibus):                  0.000   Jarque-Bera (JB):            17527.259\n",
      "Skew:                           1.804   Prob(JB):                         0.00\n",
      "Kurtosis:                      18.808   Cond. No.                     7.81e+03\n",
      "==============================================================================\n",
      "\n",
      "Notes:\n",
      "[1] Standard Errors assume that the covariance matrix of the errors is correctly specified.\n",
      "[2] The condition number is large, 7.81e+03. This might indicate that there are\n",
      "strong multicollinearity or other numerical problems.\n",
      "RMSE=  2.3051218060354546\n"
     ]
    }
   ],
   "source": [
    "col6 = ['log_quality_of_faculty', 'publications', 'citations', 'log_alumni_employment',\n",
    "        'log_quality_of_education', 'log_broad_impact', 'log_patents']\n",
    "E6 = evaluate(col6)"
   ],
   "metadata": {
    "collapsed": false,
    "pycharm": {
     "name": "#%%\n"
    }
   }
  },
  {
   "cell_type": "code",
   "execution_count": 55,
   "outputs": [
    {
     "name": "stdout",
     "output_type": "stream",
     "text": [
      "                            OLS Regression Results                            \n",
      "==============================================================================\n",
      "Dep. Variable:                  score   R-squared:                       0.882\n",
      "Model:                            OLS   Adj. R-squared:                  0.882\n",
      "Method:                 Least Squares   F-statistic:                     2392.\n",
      "Date:                Sun, 03 Apr 2022   Prob (F-statistic):               0.00\n",
      "Time:                        20:19:19   Log-Likelihood:                -3610.7\n",
      "No. Observations:                1600   AIC:                             7233.\n",
      "Df Residuals:                    1594   BIC:                             7266.\n",
      "Df Model:                           5                                         \n",
      "Covariance Type:            nonrobust                                         \n",
      "============================================================================================\n",
      "                               coef    std err          t      P>|t|      [0.025      0.975]\n",
      "--------------------------------------------------------------------------------------------\n",
      "const                      101.5359      0.520    195.319      0.000     100.516     102.556\n",
      "log_quality_of_faculty      -3.6242      0.125    -29.084      0.000      -3.869      -3.380\n",
      "log_alumni_employment       -1.3093      0.061    -21.564      0.000      -1.428      -1.190\n",
      "log_quality_of_education    -0.7535      0.095     -7.936      0.000      -0.940      -0.567\n",
      "log_broad_impact            -0.7474      0.069    -10.857      0.000      -0.882      -0.612\n",
      "log_patents                 -0.5048      0.060     -8.428      0.000      -0.622      -0.387\n",
      "==============================================================================\n",
      "Omnibus:                      703.504   Durbin-Watson:                   2.019\n",
      "Prob(Omnibus):                  0.000   Jarque-Bera (JB):            16425.287\n",
      "Skew:                           1.512   Prob(JB):                         0.00\n",
      "Kurtosis:                      18.402   Cond. No.                         166.\n",
      "==============================================================================\n",
      "\n",
      "Notes:\n",
      "[1] Standard Errors assume that the covariance matrix of the errors is correctly specified.\n",
      "RMSE=  2.4118600529343106\n"
     ]
    }
   ],
   "source": [
    "col7 = ['log_quality_of_faculty', 'log_alumni_employment',\n",
    "        'log_quality_of_education', 'log_broad_impact', 'log_patents']\n",
    "E7 = evaluate(col7)"
   ],
   "metadata": {
    "collapsed": false,
    "pycharm": {
     "name": "#%%\n"
    }
   }
  },
  {
   "cell_type": "code",
   "execution_count": 57,
   "outputs": [
    {
     "name": "stdout",
     "output_type": "stream",
     "text": [
      "                            OLS Regression Results                            \n",
      "==============================================================================\n",
      "Dep. Variable:                  score   R-squared:                       0.905\n",
      "Model:                            OLS   Adj. R-squared:                  0.905\n",
      "Method:                 Least Squares   F-statistic:                     1381.\n",
      "Date:                Sun, 03 Apr 2022   Prob (F-statistic):               0.00\n",
      "Time:                        20:23:18   Log-Likelihood:                -3437.2\n",
      "No. Observations:                1600   AIC:                             6898.\n",
      "Df Residuals:                    1588   BIC:                             6963.\n",
      "Df Model:                          11                                         \n",
      "Covariance Type:            nonrobust                                         \n",
      "============================================================================================\n",
      "                               coef    std err          t      P>|t|      [0.025      0.975]\n",
      "--------------------------------------------------------------------------------------------\n",
      "const                      106.4746      0.547    194.615      0.000     105.401     107.548\n",
      "log_quality_of_faculty      -2.3470      0.136    -17.240      0.000      -2.614      -2.080\n",
      "log_alumni_employment       -1.2127      0.057    -21.245      0.000      -1.325      -1.101\n",
      "log_quality_of_education    -0.7819      0.086     -9.043      0.000      -0.951      -0.612\n",
      "log_broad_impact            -0.4426      0.189     -2.345      0.019      -0.813      -0.072\n",
      "log_patents                 -0.4685      0.055     -8.455      0.000      -0.577      -0.360\n",
      "publications                 0.0012      0.001      1.899      0.058   -3.87e-05       0.002\n",
      "citations                    0.0043      0.001      5.789      0.000       0.003       0.006\n",
      "influence                    0.0048      0.001      7.035      0.000       0.003       0.006\n",
      "log_publications            -0.1355      0.178     -0.763      0.446      -0.484       0.213\n",
      "log_citations               -0.9219      0.214     -4.306      0.000      -1.342      -0.502\n",
      "log_influence               -1.6305      0.223     -7.304      0.000      -2.068      -1.193\n",
      "==============================================================================\n",
      "Omnibus:                      819.453   Durbin-Watson:                   1.994\n",
      "Prob(Omnibus):                  0.000   Jarque-Bera (JB):            19369.086\n",
      "Skew:                           1.875   Prob(JB):                         0.00\n",
      "Kurtosis:                      19.628   Cond. No.                     9.99e+03\n",
      "==============================================================================\n",
      "\n",
      "Notes:\n",
      "[1] Standard Errors assume that the covariance matrix of the errors is correctly specified.\n",
      "[2] The condition number is large, 9.99e+03. This might indicate that there are\n",
      "strong multicollinearity or other numerical problems.\n",
      "RMSE=  2.2343665635343495\n"
     ]
    }
   ],
   "source": [
    "col8 = ['log_quality_of_faculty', 'log_alumni_employment',\n",
    "        'log_quality_of_education', 'log_broad_impact', 'log_patents',\n",
    "        'publications', 'citations', 'influence',\n",
    "        'log_publications', 'log_citations', 'log_influence']\n",
    "E8 = evaluate(col8)"
   ],
   "metadata": {
    "collapsed": false,
    "pycharm": {
     "name": "#%%\n"
    }
   }
  },
  {
   "cell_type": "code",
   "execution_count": 58,
   "outputs": [],
   "source": [
    "def dump(obj):\n",
    "  for attr in dir(obj):\n",
    "    print(\"obj.%s = %r\" % (attr, getattr(obj, attr)))"
   ],
   "metadata": {
    "collapsed": false,
    "pycharm": {
     "name": "#%%\n"
    }
   }
  },
  {
   "cell_type": "code",
   "source": [
    "dump(E8)"
   ],
   "metadata": {
    "collapsed": false,
    "pycharm": {
     "name": "#%%\n"
    }
   },
   "execution_count": 59,
   "outputs": [
    {
     "name": "stdout",
     "output_type": "stream",
     "text": [
      "obj.HC0_se = const                       1.858400\n",
      "log_quality_of_faculty      0.252701\n",
      "log_alumni_employment       0.100342\n",
      "log_quality_of_education    0.128417\n",
      "log_broad_impact            0.222417\n",
      "log_patents                 0.091887\n",
      "publications                0.001055\n",
      "citations                   0.001138\n",
      "influence                   0.001140\n",
      "log_publications            0.376699\n",
      "log_citations               0.388132\n",
      "log_influence               0.446686\n",
      "dtype: float64\n",
      "obj.HC1_se = const                       1.865409\n",
      "log_quality_of_faculty      0.253654\n",
      "log_alumni_employment       0.100721\n",
      "log_quality_of_education    0.128902\n",
      "log_broad_impact            0.223256\n",
      "log_patents                 0.092234\n",
      "publications                0.001059\n",
      "citations                   0.001142\n",
      "influence                   0.001145\n",
      "log_publications            0.378120\n",
      "log_citations               0.389596\n",
      "log_influence               0.448371\n",
      "dtype: float64\n",
      "obj.HC2_se = const                       1.894364\n",
      "log_quality_of_faculty      0.257146\n",
      "log_alumni_employment       0.101941\n",
      "log_quality_of_education    0.130252\n",
      "log_broad_impact            0.225602\n",
      "log_patents                 0.093608\n",
      "publications                0.001084\n",
      "citations                   0.001157\n",
      "influence                   0.001163\n",
      "log_publications            0.387608\n",
      "log_citations               0.394717\n",
      "log_influence               0.455503\n",
      "dtype: float64\n",
      "obj.HC3_se = const                       1.931413\n",
      "log_quality_of_faculty      0.261719\n",
      "log_alumni_employment       0.103578\n",
      "log_quality_of_education    0.132131\n",
      "log_broad_impact            0.228878\n",
      "log_patents                 0.095387\n",
      "publications                0.001115\n",
      "citations                   0.001177\n",
      "influence                   0.001186\n",
      "log_publications            0.399006\n",
      "log_citations               0.401472\n",
      "log_influence               0.464589\n",
      "dtype: float64\n",
      "obj._HCCM = <bound method RegressionResults._HCCM of <statsmodels.regression.linear_model.OLSResults object at 0x366247d00>>\n",
      "obj.__class__ = <class 'statsmodels.regression.linear_model.RegressionResultsWrapper'>\n",
      "obj.__delattr__ = <method-wrapper '__delattr__' of RegressionResultsWrapper object at 0x36acddee0>\n",
      "obj.__dict__ = {'_results': <statsmodels.regression.linear_model.OLSResults object at 0x366247d00>, '__doc__': \"\\n    Results class for for an OLS model.\\n\\n    Parameters\\n    ----------\\n    model : RegressionModel\\n        The regression model instance.\\n    params : ndarray\\n        The estimated parameters.\\n    normalized_cov_params : ndarray\\n        The normalized covariance parameters.\\n    scale : float\\n        The estimated scale of the residuals.\\n    cov_type : str\\n        The covariance estimator used in the results.\\n    cov_kwds : dict\\n        Additional keywords used in the covariance specification.\\n    use_t : bool\\n        Flag indicating to use the Student's t in inference.\\n    **kwargs\\n        Additional keyword arguments used to initialize the results.\\n\\n    See Also\\n    --------\\n    RegressionResults\\n        Results store for WLS and GLW models.\\n\\n    Notes\\n    -----\\n    Most of the methods and attributes are inherited from RegressionResults.\\n    The special methods that are only available for OLS are:\\n\\n    - get_influence\\n    - outlier_test\\n    - el_test\\n    - conf_int_el\\n    \"}\n",
      "obj.__dir__ = <bound method ResultsWrapper.__dir__ of <statsmodels.regression.linear_model.RegressionResultsWrapper object at 0x36acddee0>>\n",
      "obj.__doc__ = \"\\n    Results class for for an OLS model.\\n\\n    Parameters\\n    ----------\\n    model : RegressionModel\\n        The regression model instance.\\n    params : ndarray\\n        The estimated parameters.\\n    normalized_cov_params : ndarray\\n        The normalized covariance parameters.\\n    scale : float\\n        The estimated scale of the residuals.\\n    cov_type : str\\n        The covariance estimator used in the results.\\n    cov_kwds : dict\\n        Additional keywords used in the covariance specification.\\n    use_t : bool\\n        Flag indicating to use the Student's t in inference.\\n    **kwargs\\n        Additional keyword arguments used to initialize the results.\\n\\n    See Also\\n    --------\\n    RegressionResults\\n        Results store for WLS and GLW models.\\n\\n    Notes\\n    -----\\n    Most of the methods and attributes are inherited from RegressionResults.\\n    The special methods that are only available for OLS are:\\n\\n    - get_influence\\n    - outlier_test\\n    - el_test\\n    - conf_int_el\\n    \"\n",
      "obj.__eq__ = <method-wrapper '__eq__' of RegressionResultsWrapper object at 0x36acddee0>\n",
      "obj.__format__ = <built-in method __format__ of RegressionResultsWrapper object at 0x36acddee0>\n",
      "obj.__ge__ = <method-wrapper '__ge__' of RegressionResultsWrapper object at 0x36acddee0>\n",
      "obj.__getattribute__ = <bound method ResultsWrapper.__getattribute__ of <statsmodels.regression.linear_model.RegressionResultsWrapper object at 0x36acddee0>>\n",
      "obj.__gt__ = <method-wrapper '__gt__' of RegressionResultsWrapper object at 0x36acddee0>\n",
      "obj.__hash__ = <method-wrapper '__hash__' of RegressionResultsWrapper object at 0x36acddee0>\n",
      "obj.__init__ = <bound method ResultsWrapper.__init__ of <statsmodels.regression.linear_model.RegressionResultsWrapper object at 0x36acddee0>>\n",
      "obj.__init_subclass__ = <built-in method __init_subclass__ of type object at 0x360644c00>\n",
      "obj.__le__ = <method-wrapper '__le__' of RegressionResultsWrapper object at 0x36acddee0>\n",
      "obj.__lt__ = <method-wrapper '__lt__' of RegressionResultsWrapper object at 0x36acddee0>\n",
      "obj.__module__ = 'statsmodels.regression.linear_model'\n",
      "obj.__ne__ = <method-wrapper '__ne__' of RegressionResultsWrapper object at 0x36acddee0>\n",
      "obj.__new__ = <built-in method __new__ of type object at 0x1050330f0>\n",
      "obj.__reduce__ = <built-in method __reduce__ of RegressionResultsWrapper object at 0x36acddee0>\n",
      "obj.__reduce_ex__ = <built-in method __reduce_ex__ of RegressionResultsWrapper object at 0x36acddee0>\n",
      "obj.__repr__ = <method-wrapper '__repr__' of RegressionResultsWrapper object at 0x36acddee0>\n",
      "obj.__setattr__ = <method-wrapper '__setattr__' of RegressionResultsWrapper object at 0x36acddee0>\n",
      "obj.__sizeof__ = <built-in method __sizeof__ of RegressionResultsWrapper object at 0x36acddee0>\n",
      "obj.__str__ = <method-wrapper '__str__' of RegressionResultsWrapper object at 0x36acddee0>\n",
      "obj.__subclasshook__ = <built-in method __subclasshook__ of type object at 0x360644c00>\n",
      "obj.__weakref__ = None\n",
      "obj._abat_diagonal = <bound method RegressionResults._abat_diagonal of <statsmodels.regression.linear_model.OLSResults object at 0x366247d00>>\n",
      "obj._cache = {'wresid': array([ 0.97304869, -0.86865611, -0.84640375, ..., -0.35002984,\n",
      "        0.83705708,  0.01753558]), 'eigenvals': array([1.43787407e+09, 2.34907430e+07, 1.97737807e+07, 1.27174826e+05,\n",
      "       1.43452741e+03, 1.19934517e+03, 7.31773976e+02, 2.37570165e+02,\n",
      "       1.06055226e+02, 7.48816405e+01, 6.74552807e+01, 1.44044212e+01]), 'condition_number': 9991.081896571823, 'ssr': 6879.848806897183, 'centered_tss': 72674.73274975, 'rsquared': 0.9053336896251489, 'nobs': 1600.0, 'rsquared_adj': 0.9046779406238118, 'ess': 65794.88394285282, 'mse_model': 5981.353085713892, 'mse_resid': 4.332398493008301, 'fvalue': 1380.6100928542705, 'f_pvalue': 0.0, 'llf': -3437.176090500562, 'aic': 6898.352181001124, 'bic': 6962.885287899859, 'scale': 4.332398493008301, 'bse': array([0.54710455, 0.13613939, 0.05708069, 0.08645879, 0.18873866,\n",
      "       0.05541061, 0.00061656, 0.00073861, 0.00068094, 0.17768623,\n",
      "       0.21408169, 0.22324301]), 'tvalues': array([194.61473574, -17.23995438, -21.24460889,  -9.04346186,\n",
      "        -2.34491092,  -8.45531519,   1.89877038,   5.7892678 ,\n",
      "         7.03470691,  -0.76277584,  -4.30632396,  -7.30377516]), 'pvalues': array([0.00000000e+00, 3.46503145e-61, 2.34220035e-88, 4.30794632e-19,\n",
      "       1.91542054e-02, 6.21409299e-17, 5.77757849e-02, 8.50353876e-09,\n",
      "       2.95787786e-12, 4.45710381e-01, 1.76151595e-05, 4.40841951e-13]), 'cov_HC0': array([[ 3.45365135e+00, -2.08104511e-01, -5.98219429e-02,\n",
      "        -5.64706103e-02,  7.67365925e-02,  1.90950913e-02,\n",
      "         3.00221282e-04,  6.30700854e-04, -3.96210737e-06,\n",
      "        -1.10539309e-01, -1.69060170e-01,  2.65068902e-02],\n",
      "       [-2.08104511e-01,  6.38579235e-02,  3.60186932e-03,\n",
      "        -5.54023577e-03, -7.36570868e-04, -7.12422741e-03,\n",
      "        -1.19598018e-05, -4.92892248e-05,  1.35396305e-04,\n",
      "         1.10727560e-02,  1.63964739e-02, -5.42899322e-02],\n",
      "       [-5.98219429e-02,  3.60186932e-03,  1.00685542e-02,\n",
      "        -1.79791180e-03,  7.88175586e-04, -1.34657503e-03,\n",
      "         9.02088713e-07, -1.96694510e-07,  7.14095598e-07,\n",
      "        -2.40929910e-03, -1.84557699e-03,  2.87328475e-04],\n",
      "       [-5.64706103e-02, -5.54023577e-03, -1.79791180e-03,\n",
      "         1.64910179e-02, -3.20243802e-04,  2.91847719e-04,\n",
      "         1.78430740e-05, -5.22612011e-06, -2.02886820e-05,\n",
      "        -7.55717271e-03, -1.40072115e-04,  5.77944594e-03],\n",
      "       [ 7.67365925e-02, -7.36570868e-04,  7.88175586e-04,\n",
      "        -3.20243802e-04,  4.94692819e-02,  2.96462582e-04,\n",
      "        -6.28459728e-05,  4.47094089e-05,  5.38874924e-05,\n",
      "         2.34898482e-03, -2.64508259e-02, -3.64651022e-02],\n",
      "       [ 1.90950913e-02, -7.12422741e-03, -1.34657503e-03,\n",
      "         2.91847719e-04,  2.96462582e-04,  8.44323929e-03,\n",
      "         5.76764939e-06,  1.33739653e-05, -1.65495711e-05,\n",
      "        -6.60857402e-03, -4.13701856e-03,  6.99583897e-03],\n",
      "       [ 3.00221282e-04, -1.19598018e-05,  9.02088713e-07,\n",
      "         1.78430740e-05, -6.28459728e-05,  5.76764939e-06,\n",
      "         1.11229742e-06, -4.28988295e-07, -5.10422474e-07,\n",
      "        -3.74295611e-04,  1.70390802e-04,  2.08835849e-04],\n",
      "       [ 6.30700854e-04, -4.92892248e-05, -1.96694510e-07,\n",
      "        -5.22612011e-06,  4.47094089e-05,  1.33739653e-05,\n",
      "        -4.28988295e-07,  1.29484295e-06, -5.02874206e-07,\n",
      "         1.40299817e-04, -4.27885144e-04,  1.84536369e-04],\n",
      "       [-3.96210737e-06,  1.35396305e-04,  7.14095598e-07,\n",
      "        -2.02886820e-05,  5.38874924e-05, -1.65495711e-05,\n",
      "        -5.10422474e-07, -5.02874206e-07,  1.30031128e-06,\n",
      "         1.80063444e-04,  1.58954290e-04, -4.93450101e-04],\n",
      "       [-1.10539309e-01,  1.10727560e-02, -2.40929910e-03,\n",
      "        -7.55717271e-03,  2.34898482e-03, -6.60857402e-03,\n",
      "        -3.74295611e-04,  1.40299817e-04,  1.80063444e-04,\n",
      "         1.41902213e-01, -5.20615210e-02, -6.99021593e-02],\n",
      "       [-1.69060170e-01,  1.63964739e-02, -1.84557699e-03,\n",
      "        -1.40072115e-04, -2.64508259e-02, -4.13701856e-03,\n",
      "         1.70390802e-04, -4.27885144e-04,  1.58954290e-04,\n",
      "        -5.20615210e-02,  1.50646510e-01, -5.53666672e-02],\n",
      "       [ 2.65068902e-02, -5.42899322e-02,  2.87328475e-04,\n",
      "         5.77944594e-03, -3.64651022e-02,  6.99583897e-03,\n",
      "         2.08835849e-04,  1.84536369e-04, -4.93450101e-04,\n",
      "        -6.99021593e-02, -5.53666672e-02,  1.99528368e-01]]), 'HC0_se': array([1.85840021e+00, 2.52701254e-01, 1.00342186e-01, 1.28417358e-01,\n",
      "       2.22416910e-01, 9.18871008e-02, 1.05465512e-03, 1.13791166e-03,\n",
      "       1.14031192e-03, 3.76699102e-01, 3.88132078e-01, 4.46685983e-01]), 'cov_HC1': array([[ 3.47974947e+00, -2.09677089e-01, -6.02739979e-02,\n",
      "        -5.68973403e-02,  7.73164660e-02,  1.92393867e-02,\n",
      "         3.02489956e-04,  6.35466855e-04, -3.99204772e-06,\n",
      "        -1.11374618e-01, -1.70337703e-01,  2.67071942e-02],\n",
      "       [-2.09677089e-01,  6.43404771e-02,  3.62908748e-03,\n",
      "        -5.58210153e-03, -7.42136894e-04, -7.17806288e-03,\n",
      "        -1.20501782e-05, -4.96616875e-05,  1.36419451e-04,\n",
      "         1.11564292e-02,  1.65203768e-02, -5.47001836e-02],\n",
      "       [-6.02739979e-02,  3.62908748e-03,  1.01446390e-02,\n",
      "        -1.81149804e-03,  7.94131573e-04, -1.35675066e-03,\n",
      "         9.08905504e-07, -1.98180866e-07,  7.19491786e-07,\n",
      "        -2.42750539e-03, -1.85952342e-03,  2.89499723e-04],\n",
      "       [-5.68973403e-02, -5.58210153e-03, -1.81149804e-03,\n",
      "         1.66156351e-02, -3.22663780e-04,  2.94053117e-04,\n",
      "         1.79779084e-05, -5.26561220e-06, -2.04419970e-05,\n",
      "        -7.61427981e-03, -1.41130594e-04,  5.82311933e-03],\n",
      "       [ 7.73164660e-02, -7.42136894e-04,  7.94131573e-04,\n",
      "        -3.22663780e-04,  4.98431052e-02,  2.98702854e-04,\n",
      "        -6.33208794e-05,  4.50472634e-05,  5.42947027e-05,\n",
      "         2.36673534e-03, -2.66507062e-02, -3.67406571e-02],\n",
      "       [ 1.92393867e-02, -7.17806288e-03, -1.35675066e-03,\n",
      "         2.94053117e-04,  2.98702854e-04,  8.50704210e-03,\n",
      "         5.81123364e-06,  1.34750280e-05, -1.66746308e-05,\n",
      "        -6.65851287e-03, -4.16828067e-03,  7.04870425e-03],\n",
      "       [ 3.02489956e-04, -1.20501782e-05,  9.08905504e-07,\n",
      "         1.79779084e-05, -6.33208794e-05,  5.81123364e-06,\n",
      "         1.12070269e-06, -4.32230020e-07, -5.14279570e-07,\n",
      "        -3.77124041e-04,  1.71678390e-04,  2.10413954e-04],\n",
      "       [ 6.35466855e-04, -4.96616875e-05, -1.98180866e-07,\n",
      "        -5.26561220e-06,  4.50472634e-05,  1.34750280e-05,\n",
      "        -4.32230020e-07,  1.30462765e-06, -5.06674263e-07,\n",
      "         1.41360018e-04, -4.31118533e-04,  1.85930851e-04],\n",
      "       [-3.99204772e-06,  1.36419451e-04,  7.19491786e-07,\n",
      "        -2.04419970e-05,  5.42947027e-05, -1.66746308e-05,\n",
      "        -5.14279570e-07, -5.06674263e-07,  1.31013731e-06,\n",
      "         1.81424125e-04,  1.60155456e-04, -4.97178943e-04],\n",
      "       [-1.11374618e-01,  1.11564292e-02, -2.42750539e-03,\n",
      "        -7.61427981e-03,  2.36673534e-03, -6.65851287e-03,\n",
      "        -3.77124041e-04,  1.41360018e-04,  1.81424125e-04,\n",
      "         1.42974522e-01, -5.24549330e-02, -7.04303872e-02],\n",
      "       [-1.70337703e-01,  1.65203768e-02, -1.85952342e-03,\n",
      "        -1.41130594e-04, -2.66507062e-02, -4.16828067e-03,\n",
      "         1.71678390e-04, -4.31118533e-04,  1.60155456e-04,\n",
      "        -5.24549330e-02,  1.51784897e-01, -5.57850551e-02],\n",
      "       [ 2.67071942e-02, -5.47001836e-02,  2.89499723e-04,\n",
      "         5.82311933e-03, -3.67406571e-02,  7.04870425e-03,\n",
      "         2.10413954e-04,  1.85930851e-04, -4.97178943e-04,\n",
      "        -7.04303872e-02, -5.57850551e-02,  2.01036139e-01]]), 'HC1_se': array([1.86540866e+00, 2.53654247e-01, 1.00720599e-01, 1.28901649e-01,\n",
      "       2.23255695e-01, 9.22336278e-02, 1.05863246e-03, 1.14220298e-03,\n",
      "       1.14461230e-03, 3.78119719e-01, 3.89595812e-01, 4.48370537e-01]), 'cov_HC2': array([[ 3.58861619e+00, -2.16728931e-01, -6.16861298e-02,\n",
      "        -5.80529470e-02,  7.92134683e-02,  2.04170755e-02,\n",
      "         3.16388377e-04,  6.52956480e-04, -1.56389238e-06,\n",
      "        -1.16483592e-01, -1.74476259e-01,  2.70227532e-02],\n",
      "       [-2.16728931e-01,  6.61242930e-02,  3.81104979e-03,\n",
      "        -5.63615186e-03, -6.15612268e-04, -7.50063883e-03,\n",
      "        -1.27658439e-05, -5.14540400e-05,  1.40410755e-04,\n",
      "         1.15611059e-02,  1.70142841e-02, -5.63681563e-02],\n",
      "       [-6.16861298e-02,  3.81104979e-03,  1.03918921e-02,\n",
      "        -1.85896394e-03,  8.60666076e-04, -1.40042789e-03,\n",
      "         9.99166492e-07, -2.62871067e-07,  9.98018629e-07,\n",
      "        -2.51132644e-03, -1.88953717e-03,  1.69185524e-04],\n",
      "       [-5.80529470e-02, -5.63615186e-03, -1.85896394e-03,\n",
      "         1.69654566e-02, -4.19163888e-04,  3.30816751e-04,\n",
      "         1.96463328e-05, -5.64458378e-06, -2.16280704e-05,\n",
      "        -8.20849534e-03, -3.49157469e-05,  6.26263305e-03],\n",
      "       [ 7.92134683e-02, -6.15612268e-04,  8.60666076e-04,\n",
      "        -4.19163888e-04,  5.08964040e-02,  2.79107505e-04,\n",
      "        -6.54929373e-05,  4.57374400e-05,  5.68765067e-05,\n",
      "         2.73170697e-03, -2.71518967e-02, -3.80065752e-02],\n",
      "       [ 2.04170755e-02, -7.50063883e-03, -1.40042789e-03,\n",
      "         3.30816751e-04,  2.79107505e-04,  8.76251169e-03,\n",
      "         7.09521507e-06,  1.36496521e-05, -1.79936662e-05,\n",
      "        -7.23802295e-03, -4.20160663e-03,  7.57352766e-03],\n",
      "       [ 3.16388377e-04, -1.27658439e-05,  9.99166492e-07,\n",
      "         1.96463328e-05, -6.54929373e-05,  7.09521507e-06,\n",
      "         1.17565987e-06, -4.50502588e-07, -5.39494128e-07,\n",
      "        -3.96717413e-04,  1.78878617e-04,  2.20405550e-04],\n",
      "       [ 6.52956480e-04, -5.14540400e-05, -2.62871067e-07,\n",
      "        -5.64458378e-06,  4.57374400e-05,  1.36496521e-05,\n",
      "        -4.50502588e-07,  1.33957224e-06, -5.15852237e-07,\n",
      "         1.47936507e-04, -4.42706669e-04,  1.89625494e-04],\n",
      "       [-1.56389238e-06,  1.40410755e-04,  9.98018629e-07,\n",
      "        -2.16280704e-05,  5.68765067e-05, -1.79936662e-05,\n",
      "        -5.39494128e-07, -5.15852237e-07,  1.35216939e-06,\n",
      "         1.90523177e-04,  1.62655312e-04, -5.13439955e-04],\n",
      "       [-1.16483592e-01,  1.15611059e-02, -2.51132644e-03,\n",
      "        -8.20849534e-03,  2.73170697e-03, -7.23802295e-03,\n",
      "        -3.96717413e-04,  1.47936507e-04,  1.90523177e-04,\n",
      "         1.50240021e-01, -5.49216476e-02, -7.39158345e-02],\n",
      "       [-1.74476259e-01,  1.70142841e-02, -1.88953717e-03,\n",
      "        -3.49157469e-05, -2.71518967e-02, -4.20160663e-03,\n",
      "         1.78878617e-04, -4.42706669e-04,  1.62655312e-04,\n",
      "        -5.49216476e-02,  1.55801543e-01, -5.67194969e-02],\n",
      "       [ 2.70227532e-02, -5.63681563e-02,  1.69185524e-04,\n",
      "         6.26263305e-03, -3.80065752e-02,  7.57352766e-03,\n",
      "         2.20405550e-04,  1.89625494e-04, -5.13439955e-04,\n",
      "        -7.39158345e-02, -5.67194969e-02,  2.07483253e-01]]), 'HC2_se': array([1.89436432e+00, 2.57146443e-01, 1.01940630e-01, 1.30251513e-01,\n",
      "       2.25602314e-01, 9.36082885e-02, 1.08427850e-03, 1.15739891e-03,\n",
      "       1.16282819e-03, 3.87608076e-01, 3.94717042e-01, 4.55503296e-01]), 'cov_HC3': array([[ 3.73035449e+00, -2.25798485e-01, -6.36123052e-02,\n",
      "        -5.96716602e-02,  8.17423976e-02,  2.18286340e-02,\n",
      "         3.33912241e-04,  6.76178170e-04,  8.59789816e-07,\n",
      "        -1.22901629e-01, -1.80085114e-01,  2.76315571e-02],\n",
      "       [-2.25798485e-01,  6.84968701e-02,  4.03123372e-03,\n",
      "        -5.73627076e-03, -4.82590849e-04, -7.89989879e-03,\n",
      "        -1.36732856e-05, -5.37049586e-05,  1.45677532e-04,\n",
      "         1.20936922e-02,  1.76525999e-02, -5.85527907e-02],\n",
      "       [-6.36123052e-02,  4.03123372e-03,  1.07283029e-02,\n",
      "        -1.92181043e-03,  9.38584814e-04, -1.45639382e-03,\n",
      "         1.12128176e-06, -3.42373904e-07,  1.29632793e-06,\n",
      "        -2.62578863e-03, -1.93213806e-03,  4.37385927e-05],\n",
      "       [-5.96716602e-02, -5.73627076e-03, -1.92181043e-03,\n",
      "         1.74584966e-02, -5.24715208e-04,  3.74618192e-04,\n",
      "         2.15983949e-05, -6.09707375e-06, -2.30611621e-05,\n",
      "        -8.91366628e-03,  8.14975001e-05,  6.78114418e-03],\n",
      "       [ 8.17423976e-02, -4.82590849e-04,  9.38584814e-04,\n",
      "        -5.24715208e-04,  5.23850923e-02,  2.59404363e-04,\n",
      "        -6.82811002e-05,  4.67823684e-05,  6.00312697e-05,\n",
      "         3.14078166e-03, -2.78759914e-02, -3.96286784e-02],\n",
      "       [ 2.18286340e-02, -7.89989879e-03, -1.45639382e-03,\n",
      "         3.74618192e-04,  2.59404363e-04,  9.09874982e-03,\n",
      "         8.56878898e-06,  1.39119558e-05, -1.95542771e-05,\n",
      "        -7.92750893e-03, -4.25991046e-03,  8.19670875e-03],\n",
      "       [ 3.33912241e-04, -1.36732856e-05,  1.12128176e-06,\n",
      "         2.15983949e-05, -6.82811002e-05,  8.56878898e-06,\n",
      "         1.24364757e-06, -4.73436606e-07, -5.70689175e-07,\n",
      "        -4.20819766e-04,  1.87918564e-04,  2.32805173e-04],\n",
      "       [ 6.76178170e-04, -5.37049586e-05, -3.42373904e-07,\n",
      "        -6.09707375e-06,  4.67823684e-05,  1.39119558e-05,\n",
      "        -4.73436606e-07,  1.38627789e-06, -5.29020340e-07,\n",
      "         1.56107491e-04, -4.58174970e-04,  1.94811636e-04],\n",
      "       [ 8.59789816e-07,  1.45677532e-04,  1.29632793e-06,\n",
      "        -2.30611621e-05,  6.00312697e-05, -1.95542771e-05,\n",
      "        -5.70689175e-07, -5.29020340e-07,  1.40667716e-06,\n",
      "         2.01761643e-04,  1.66380970e-04, -5.34453400e-04],\n",
      "       [-1.22901629e-01,  1.20936922e-02, -2.62578863e-03,\n",
      "        -8.91366628e-03,  3.14078166e-03, -7.92750893e-03,\n",
      "        -4.20819766e-04,  1.56107491e-04,  2.01761643e-04,\n",
      "         1.59205492e-01, -5.79801225e-02, -7.82256173e-02],\n",
      "       [-1.80085114e-01,  1.76525999e-02, -1.93213806e-03,\n",
      "         8.14975001e-05, -2.78759914e-02, -4.25991046e-03,\n",
      "         1.87918564e-04, -4.58174970e-04,  1.66380970e-04,\n",
      "        -5.79801225e-02,  1.61179439e-01, -5.80837501e-02],\n",
      "       [ 2.76315571e-02, -5.85527907e-02,  4.37385927e-05,\n",
      "         6.78114418e-03, -3.96286784e-02,  8.19670875e-03,\n",
      "         2.32805173e-04,  1.94811636e-04, -5.34453400e-04,\n",
      "        -7.82256173e-02, -5.80837501e-02,  2.15843374e-01]]), 'HC3_se': array([1.93141256e+00, 2.61719067e-01, 1.03577521e-01, 1.32130604e-01,\n",
      "       2.28877898e-01, 9.53873672e-02, 1.11518948e-03, 1.17740303e-03,\n",
      "       1.18603422e-03, 3.99005630e-01, 4.01471592e-01, 4.64589469e-01])}\n",
      "obj._data_attr = []\n",
      "obj._data_in_cache = ['fittedvalues', 'resid', 'wresid']\n",
      "obj._get_robustcov_results = <bound method LikelihoodModelResults._get_robustcov_results of <statsmodels.regression.linear_model.OLSResults object at 0x366247d00>>\n",
      "obj._is_nested = <bound method RegressionResults._is_nested of <statsmodels.regression.linear_model.OLSResults object at 0x366247d00>>\n",
      "obj._use_t = True\n",
      "obj._wexog_singular_values = array([3.79193099e+04, 4.84672498e+03, 4.44677195e+03, 3.56615797e+02,\n",
      "       3.78751556e+01, 3.46315632e+01, 2.70513211e+01, 1.54133113e+01,\n",
      "       1.02983118e+01, 8.65341785e+00, 8.21311638e+00, 3.79531570e+00])\n",
      "obj.aic = 6898.352181001124\n",
      "obj.bic = 6962.885287899859\n",
      "obj.bse = const                       0.547105\n",
      "log_quality_of_faculty      0.136139\n",
      "log_alumni_employment       0.057081\n",
      "log_quality_of_education    0.086459\n",
      "log_broad_impact            0.188739\n",
      "log_patents                 0.055411\n",
      "publications                0.000617\n",
      "citations                   0.000739\n",
      "influence                   0.000681\n",
      "log_publications            0.177686\n",
      "log_citations               0.214082\n",
      "log_influence               0.223243\n",
      "dtype: float64\n",
      "obj.centered_tss = 72674.73274975\n",
      "obj.compare_f_test = <bound method RegressionResults.compare_f_test of <statsmodels.regression.linear_model.OLSResults object at 0x366247d00>>\n",
      "obj.compare_lm_test = <bound method RegressionResults.compare_lm_test of <statsmodels.regression.linear_model.OLSResults object at 0x366247d00>>\n",
      "obj.compare_lr_test = <bound method RegressionResults.compare_lr_test of <statsmodels.regression.linear_model.OLSResults object at 0x366247d00>>\n",
      "obj.condition_number = 9991.081896571823\n",
      "obj.conf_int = <bound method RegressionResults.conf_int of <statsmodels.regression.linear_model.RegressionResultsWrapper object at 0x36acddee0>>\n",
      "obj.conf_int_el = <bound method OLSResults.conf_int_el of <statsmodels.regression.linear_model.OLSResults object at 0x366247d00>>\n",
      "obj.cov_HC0 = array([[ 3.45365135e+00, -2.08104511e-01, -5.98219429e-02,\n",
      "        -5.64706103e-02,  7.67365925e-02,  1.90950913e-02,\n",
      "         3.00221282e-04,  6.30700854e-04, -3.96210737e-06,\n",
      "        -1.10539309e-01, -1.69060170e-01,  2.65068902e-02],\n",
      "       [-2.08104511e-01,  6.38579235e-02,  3.60186932e-03,\n",
      "        -5.54023577e-03, -7.36570868e-04, -7.12422741e-03,\n",
      "        -1.19598018e-05, -4.92892248e-05,  1.35396305e-04,\n",
      "         1.10727560e-02,  1.63964739e-02, -5.42899322e-02],\n",
      "       [-5.98219429e-02,  3.60186932e-03,  1.00685542e-02,\n",
      "        -1.79791180e-03,  7.88175586e-04, -1.34657503e-03,\n",
      "         9.02088713e-07, -1.96694510e-07,  7.14095598e-07,\n",
      "        -2.40929910e-03, -1.84557699e-03,  2.87328475e-04],\n",
      "       [-5.64706103e-02, -5.54023577e-03, -1.79791180e-03,\n",
      "         1.64910179e-02, -3.20243802e-04,  2.91847719e-04,\n",
      "         1.78430740e-05, -5.22612011e-06, -2.02886820e-05,\n",
      "        -7.55717271e-03, -1.40072115e-04,  5.77944594e-03],\n",
      "       [ 7.67365925e-02, -7.36570868e-04,  7.88175586e-04,\n",
      "        -3.20243802e-04,  4.94692819e-02,  2.96462582e-04,\n",
      "        -6.28459728e-05,  4.47094089e-05,  5.38874924e-05,\n",
      "         2.34898482e-03, -2.64508259e-02, -3.64651022e-02],\n",
      "       [ 1.90950913e-02, -7.12422741e-03, -1.34657503e-03,\n",
      "         2.91847719e-04,  2.96462582e-04,  8.44323929e-03,\n",
      "         5.76764939e-06,  1.33739653e-05, -1.65495711e-05,\n",
      "        -6.60857402e-03, -4.13701856e-03,  6.99583897e-03],\n",
      "       [ 3.00221282e-04, -1.19598018e-05,  9.02088713e-07,\n",
      "         1.78430740e-05, -6.28459728e-05,  5.76764939e-06,\n",
      "         1.11229742e-06, -4.28988295e-07, -5.10422474e-07,\n",
      "        -3.74295611e-04,  1.70390802e-04,  2.08835849e-04],\n",
      "       [ 6.30700854e-04, -4.92892248e-05, -1.96694510e-07,\n",
      "        -5.22612011e-06,  4.47094089e-05,  1.33739653e-05,\n",
      "        -4.28988295e-07,  1.29484295e-06, -5.02874206e-07,\n",
      "         1.40299817e-04, -4.27885144e-04,  1.84536369e-04],\n",
      "       [-3.96210737e-06,  1.35396305e-04,  7.14095598e-07,\n",
      "        -2.02886820e-05,  5.38874924e-05, -1.65495711e-05,\n",
      "        -5.10422474e-07, -5.02874206e-07,  1.30031128e-06,\n",
      "         1.80063444e-04,  1.58954290e-04, -4.93450101e-04],\n",
      "       [-1.10539309e-01,  1.10727560e-02, -2.40929910e-03,\n",
      "        -7.55717271e-03,  2.34898482e-03, -6.60857402e-03,\n",
      "        -3.74295611e-04,  1.40299817e-04,  1.80063444e-04,\n",
      "         1.41902213e-01, -5.20615210e-02, -6.99021593e-02],\n",
      "       [-1.69060170e-01,  1.63964739e-02, -1.84557699e-03,\n",
      "        -1.40072115e-04, -2.64508259e-02, -4.13701856e-03,\n",
      "         1.70390802e-04, -4.27885144e-04,  1.58954290e-04,\n",
      "        -5.20615210e-02,  1.50646510e-01, -5.53666672e-02],\n",
      "       [ 2.65068902e-02, -5.42899322e-02,  2.87328475e-04,\n",
      "         5.77944594e-03, -3.64651022e-02,  6.99583897e-03,\n",
      "         2.08835849e-04,  1.84536369e-04, -4.93450101e-04,\n",
      "        -6.99021593e-02, -5.53666672e-02,  1.99528368e-01]])\n",
      "obj.cov_HC1 = array([[ 3.47974947e+00, -2.09677089e-01, -6.02739979e-02,\n",
      "        -5.68973403e-02,  7.73164660e-02,  1.92393867e-02,\n",
      "         3.02489956e-04,  6.35466855e-04, -3.99204772e-06,\n",
      "        -1.11374618e-01, -1.70337703e-01,  2.67071942e-02],\n",
      "       [-2.09677089e-01,  6.43404771e-02,  3.62908748e-03,\n",
      "        -5.58210153e-03, -7.42136894e-04, -7.17806288e-03,\n",
      "        -1.20501782e-05, -4.96616875e-05,  1.36419451e-04,\n",
      "         1.11564292e-02,  1.65203768e-02, -5.47001836e-02],\n",
      "       [-6.02739979e-02,  3.62908748e-03,  1.01446390e-02,\n",
      "        -1.81149804e-03,  7.94131573e-04, -1.35675066e-03,\n",
      "         9.08905504e-07, -1.98180866e-07,  7.19491786e-07,\n",
      "        -2.42750539e-03, -1.85952342e-03,  2.89499723e-04],\n",
      "       [-5.68973403e-02, -5.58210153e-03, -1.81149804e-03,\n",
      "         1.66156351e-02, -3.22663780e-04,  2.94053117e-04,\n",
      "         1.79779084e-05, -5.26561220e-06, -2.04419970e-05,\n",
      "        -7.61427981e-03, -1.41130594e-04,  5.82311933e-03],\n",
      "       [ 7.73164660e-02, -7.42136894e-04,  7.94131573e-04,\n",
      "        -3.22663780e-04,  4.98431052e-02,  2.98702854e-04,\n",
      "        -6.33208794e-05,  4.50472634e-05,  5.42947027e-05,\n",
      "         2.36673534e-03, -2.66507062e-02, -3.67406571e-02],\n",
      "       [ 1.92393867e-02, -7.17806288e-03, -1.35675066e-03,\n",
      "         2.94053117e-04,  2.98702854e-04,  8.50704210e-03,\n",
      "         5.81123364e-06,  1.34750280e-05, -1.66746308e-05,\n",
      "        -6.65851287e-03, -4.16828067e-03,  7.04870425e-03],\n",
      "       [ 3.02489956e-04, -1.20501782e-05,  9.08905504e-07,\n",
      "         1.79779084e-05, -6.33208794e-05,  5.81123364e-06,\n",
      "         1.12070269e-06, -4.32230020e-07, -5.14279570e-07,\n",
      "        -3.77124041e-04,  1.71678390e-04,  2.10413954e-04],\n",
      "       [ 6.35466855e-04, -4.96616875e-05, -1.98180866e-07,\n",
      "        -5.26561220e-06,  4.50472634e-05,  1.34750280e-05,\n",
      "        -4.32230020e-07,  1.30462765e-06, -5.06674263e-07,\n",
      "         1.41360018e-04, -4.31118533e-04,  1.85930851e-04],\n",
      "       [-3.99204772e-06,  1.36419451e-04,  7.19491786e-07,\n",
      "        -2.04419970e-05,  5.42947027e-05, -1.66746308e-05,\n",
      "        -5.14279570e-07, -5.06674263e-07,  1.31013731e-06,\n",
      "         1.81424125e-04,  1.60155456e-04, -4.97178943e-04],\n",
      "       [-1.11374618e-01,  1.11564292e-02, -2.42750539e-03,\n",
      "        -7.61427981e-03,  2.36673534e-03, -6.65851287e-03,\n",
      "        -3.77124041e-04,  1.41360018e-04,  1.81424125e-04,\n",
      "         1.42974522e-01, -5.24549330e-02, -7.04303872e-02],\n",
      "       [-1.70337703e-01,  1.65203768e-02, -1.85952342e-03,\n",
      "        -1.41130594e-04, -2.66507062e-02, -4.16828067e-03,\n",
      "         1.71678390e-04, -4.31118533e-04,  1.60155456e-04,\n",
      "        -5.24549330e-02,  1.51784897e-01, -5.57850551e-02],\n",
      "       [ 2.67071942e-02, -5.47001836e-02,  2.89499723e-04,\n",
      "         5.82311933e-03, -3.67406571e-02,  7.04870425e-03,\n",
      "         2.10413954e-04,  1.85930851e-04, -4.97178943e-04,\n",
      "        -7.04303872e-02, -5.57850551e-02,  2.01036139e-01]])\n",
      "obj.cov_HC2 = array([[ 3.58861619e+00, -2.16728931e-01, -6.16861298e-02,\n",
      "        -5.80529470e-02,  7.92134683e-02,  2.04170755e-02,\n",
      "         3.16388377e-04,  6.52956480e-04, -1.56389238e-06,\n",
      "        -1.16483592e-01, -1.74476259e-01,  2.70227532e-02],\n",
      "       [-2.16728931e-01,  6.61242930e-02,  3.81104979e-03,\n",
      "        -5.63615186e-03, -6.15612268e-04, -7.50063883e-03,\n",
      "        -1.27658439e-05, -5.14540400e-05,  1.40410755e-04,\n",
      "         1.15611059e-02,  1.70142841e-02, -5.63681563e-02],\n",
      "       [-6.16861298e-02,  3.81104979e-03,  1.03918921e-02,\n",
      "        -1.85896394e-03,  8.60666076e-04, -1.40042789e-03,\n",
      "         9.99166492e-07, -2.62871067e-07,  9.98018629e-07,\n",
      "        -2.51132644e-03, -1.88953717e-03,  1.69185524e-04],\n",
      "       [-5.80529470e-02, -5.63615186e-03, -1.85896394e-03,\n",
      "         1.69654566e-02, -4.19163888e-04,  3.30816751e-04,\n",
      "         1.96463328e-05, -5.64458378e-06, -2.16280704e-05,\n",
      "        -8.20849534e-03, -3.49157469e-05,  6.26263305e-03],\n",
      "       [ 7.92134683e-02, -6.15612268e-04,  8.60666076e-04,\n",
      "        -4.19163888e-04,  5.08964040e-02,  2.79107505e-04,\n",
      "        -6.54929373e-05,  4.57374400e-05,  5.68765067e-05,\n",
      "         2.73170697e-03, -2.71518967e-02, -3.80065752e-02],\n",
      "       [ 2.04170755e-02, -7.50063883e-03, -1.40042789e-03,\n",
      "         3.30816751e-04,  2.79107505e-04,  8.76251169e-03,\n",
      "         7.09521507e-06,  1.36496521e-05, -1.79936662e-05,\n",
      "        -7.23802295e-03, -4.20160663e-03,  7.57352766e-03],\n",
      "       [ 3.16388377e-04, -1.27658439e-05,  9.99166492e-07,\n",
      "         1.96463328e-05, -6.54929373e-05,  7.09521507e-06,\n",
      "         1.17565987e-06, -4.50502588e-07, -5.39494128e-07,\n",
      "        -3.96717413e-04,  1.78878617e-04,  2.20405550e-04],\n",
      "       [ 6.52956480e-04, -5.14540400e-05, -2.62871067e-07,\n",
      "        -5.64458378e-06,  4.57374400e-05,  1.36496521e-05,\n",
      "        -4.50502588e-07,  1.33957224e-06, -5.15852237e-07,\n",
      "         1.47936507e-04, -4.42706669e-04,  1.89625494e-04],\n",
      "       [-1.56389238e-06,  1.40410755e-04,  9.98018629e-07,\n",
      "        -2.16280704e-05,  5.68765067e-05, -1.79936662e-05,\n",
      "        -5.39494128e-07, -5.15852237e-07,  1.35216939e-06,\n",
      "         1.90523177e-04,  1.62655312e-04, -5.13439955e-04],\n",
      "       [-1.16483592e-01,  1.15611059e-02, -2.51132644e-03,\n",
      "        -8.20849534e-03,  2.73170697e-03, -7.23802295e-03,\n",
      "        -3.96717413e-04,  1.47936507e-04,  1.90523177e-04,\n",
      "         1.50240021e-01, -5.49216476e-02, -7.39158345e-02],\n",
      "       [-1.74476259e-01,  1.70142841e-02, -1.88953717e-03,\n",
      "        -3.49157469e-05, -2.71518967e-02, -4.20160663e-03,\n",
      "         1.78878617e-04, -4.42706669e-04,  1.62655312e-04,\n",
      "        -5.49216476e-02,  1.55801543e-01, -5.67194969e-02],\n",
      "       [ 2.70227532e-02, -5.63681563e-02,  1.69185524e-04,\n",
      "         6.26263305e-03, -3.80065752e-02,  7.57352766e-03,\n",
      "         2.20405550e-04,  1.89625494e-04, -5.13439955e-04,\n",
      "        -7.39158345e-02, -5.67194969e-02,  2.07483253e-01]])\n",
      "obj.cov_HC3 = array([[ 3.73035449e+00, -2.25798485e-01, -6.36123052e-02,\n",
      "        -5.96716602e-02,  8.17423976e-02,  2.18286340e-02,\n",
      "         3.33912241e-04,  6.76178170e-04,  8.59789816e-07,\n",
      "        -1.22901629e-01, -1.80085114e-01,  2.76315571e-02],\n",
      "       [-2.25798485e-01,  6.84968701e-02,  4.03123372e-03,\n",
      "        -5.73627076e-03, -4.82590849e-04, -7.89989879e-03,\n",
      "        -1.36732856e-05, -5.37049586e-05,  1.45677532e-04,\n",
      "         1.20936922e-02,  1.76525999e-02, -5.85527907e-02],\n",
      "       [-6.36123052e-02,  4.03123372e-03,  1.07283029e-02,\n",
      "        -1.92181043e-03,  9.38584814e-04, -1.45639382e-03,\n",
      "         1.12128176e-06, -3.42373904e-07,  1.29632793e-06,\n",
      "        -2.62578863e-03, -1.93213806e-03,  4.37385927e-05],\n",
      "       [-5.96716602e-02, -5.73627076e-03, -1.92181043e-03,\n",
      "         1.74584966e-02, -5.24715208e-04,  3.74618192e-04,\n",
      "         2.15983949e-05, -6.09707375e-06, -2.30611621e-05,\n",
      "        -8.91366628e-03,  8.14975001e-05,  6.78114418e-03],\n",
      "       [ 8.17423976e-02, -4.82590849e-04,  9.38584814e-04,\n",
      "        -5.24715208e-04,  5.23850923e-02,  2.59404363e-04,\n",
      "        -6.82811002e-05,  4.67823684e-05,  6.00312697e-05,\n",
      "         3.14078166e-03, -2.78759914e-02, -3.96286784e-02],\n",
      "       [ 2.18286340e-02, -7.89989879e-03, -1.45639382e-03,\n",
      "         3.74618192e-04,  2.59404363e-04,  9.09874982e-03,\n",
      "         8.56878898e-06,  1.39119558e-05, -1.95542771e-05,\n",
      "        -7.92750893e-03, -4.25991046e-03,  8.19670875e-03],\n",
      "       [ 3.33912241e-04, -1.36732856e-05,  1.12128176e-06,\n",
      "         2.15983949e-05, -6.82811002e-05,  8.56878898e-06,\n",
      "         1.24364757e-06, -4.73436606e-07, -5.70689175e-07,\n",
      "        -4.20819766e-04,  1.87918564e-04,  2.32805173e-04],\n",
      "       [ 6.76178170e-04, -5.37049586e-05, -3.42373904e-07,\n",
      "        -6.09707375e-06,  4.67823684e-05,  1.39119558e-05,\n",
      "        -4.73436606e-07,  1.38627789e-06, -5.29020340e-07,\n",
      "         1.56107491e-04, -4.58174970e-04,  1.94811636e-04],\n",
      "       [ 8.59789816e-07,  1.45677532e-04,  1.29632793e-06,\n",
      "        -2.30611621e-05,  6.00312697e-05, -1.95542771e-05,\n",
      "        -5.70689175e-07, -5.29020340e-07,  1.40667716e-06,\n",
      "         2.01761643e-04,  1.66380970e-04, -5.34453400e-04],\n",
      "       [-1.22901629e-01,  1.20936922e-02, -2.62578863e-03,\n",
      "        -8.91366628e-03,  3.14078166e-03, -7.92750893e-03,\n",
      "        -4.20819766e-04,  1.56107491e-04,  2.01761643e-04,\n",
      "         1.59205492e-01, -5.79801225e-02, -7.82256173e-02],\n",
      "       [-1.80085114e-01,  1.76525999e-02, -1.93213806e-03,\n",
      "         8.14975001e-05, -2.78759914e-02, -4.25991046e-03,\n",
      "         1.87918564e-04, -4.58174970e-04,  1.66380970e-04,\n",
      "        -5.79801225e-02,  1.61179439e-01, -5.80837501e-02],\n",
      "       [ 2.76315571e-02, -5.85527907e-02,  4.37385927e-05,\n",
      "         6.78114418e-03, -3.96286784e-02,  8.19670875e-03,\n",
      "         2.32805173e-04,  1.94811636e-04, -5.34453400e-04,\n",
      "        -7.82256173e-02, -5.80837501e-02,  2.15843374e-01]])\n",
      "obj.cov_kwds = {'description': 'Standard Errors assume that the covariance matrix of the errors is correctly specified.'}\n",
      "obj.cov_params = <bound method LikelihoodModelResults.cov_params of <statsmodels.regression.linear_model.RegressionResultsWrapper object at 0x36acddee0>>\n",
      "obj.cov_type = 'nonrobust'\n",
      "obj.df_model = 11.0\n",
      "obj.df_resid = 1588.0\n",
      "obj.diagn = {'jb': 19369.085693178986, 'jbpv': 0.0, 'skew': 1.8747355353776998, 'kurtosis': 19.62762015705354, 'omni': 819.4528491513377, 'omnipv': 1.1430749746390506e-178, 'condno': 9991.081896571823, 'mineigval': 14.404421227922505}\n",
      "obj.eigenvals = array([1.43787407e+09, 2.34907430e+07, 1.97737807e+07, 1.27174826e+05,\n",
      "       1.43452741e+03, 1.19934517e+03, 7.31773976e+02, 2.37570165e+02,\n",
      "       1.06055226e+02, 7.48816405e+01, 6.74552807e+01, 1.44044212e+01])\n",
      "obj.el_test = <bound method OLSResults.el_test of <statsmodels.regression.linear_model.OLSResults object at 0x366247d00>>\n",
      "obj.ess = 65794.88394285282\n",
      "obj.f_pvalue = 0.0\n",
      "obj.f_test = <bound method LikelihoodModelResults.f_test of <statsmodels.regression.linear_model.OLSResults object at 0x366247d00>>\n",
      "obj.fittedvalues = 1650    43.966951\n",
      "726     45.878656\n",
      "1711    45.576404\n",
      "1760    42.842024\n",
      "794     44.086654\n",
      "          ...    \n",
      "421     47.360129\n",
      "1459    47.333845\n",
      "1983    44.610030\n",
      "1954    43.452943\n",
      "2133    44.082464\n",
      "Length: 1600, dtype: float64\n",
      "obj.fvalue = 1380.6100928542705\n",
      "obj.get_influence = <bound method OLSResults.get_influence of <statsmodels.regression.linear_model.OLSResults object at 0x366247d00>>\n",
      "obj.get_prediction = <bound method RegressionResults.get_prediction of <statsmodels.regression.linear_model.OLSResults object at 0x366247d00>>\n",
      "obj.get_robustcov_results = <bound method RegressionResults.get_robustcov_results of <statsmodels.regression.linear_model.OLSResults object at 0x366247d00>>\n",
      "obj.info_criteria = <bound method RegressionResults.info_criteria of <statsmodels.regression.linear_model.OLSResults object at 0x366247d00>>\n",
      "obj.initialize = <bound method Results.initialize of <statsmodels.regression.linear_model.OLSResults object at 0x366247d00>>\n",
      "obj.k_constant = 1\n",
      "obj.llf = -3437.176090500562\n",
      "obj.load = <bound method ResultsWrapper.load of <class 'statsmodels.regression.linear_model.RegressionResultsWrapper'>>\n",
      "obj.model = <statsmodels.regression.linear_model.OLS object at 0x36ac989a0>\n",
      "obj.mse_model = 5981.353085713892\n",
      "obj.mse_resid = 4.332398493008301\n",
      "obj.mse_total = 45.45011429002501\n",
      "obj.nobs = 1600.0\n",
      "obj.normalized_cov_params =                              const  log_quality_of_faculty  \\\n",
      "const                     0.069090               -0.002429   \n",
      "log_quality_of_faculty   -0.002429                0.004278   \n",
      "log_alumni_employment    -0.001040               -0.000014   \n",
      "log_quality_of_education -0.000616               -0.001375   \n",
      "log_broad_impact         -0.001550                0.000388   \n",
      "log_patents              -0.000707               -0.000118   \n",
      "publications              0.000016               -0.000002   \n",
      "citations                 0.000011                0.000003   \n",
      "influence                 0.000004                0.000007   \n",
      "log_publications         -0.003106                0.001021   \n",
      "log_citations            -0.001125               -0.000981   \n",
      "log_influence             0.000389               -0.002896   \n",
      "\n",
      "                          log_alumni_employment  log_quality_of_education  \\\n",
      "const                             -1.040489e-03             -6.156733e-04   \n",
      "log_quality_of_faculty            -1.411603e-05             -1.375449e-03   \n",
      "log_alumni_employment              7.520556e-04             -1.963698e-04   \n",
      "log_quality_of_education          -1.963698e-04              1.725401e-03   \n",
      "log_broad_impact                   2.272358e-04              3.230335e-04   \n",
      "log_patents                       -1.581916e-04              4.997277e-05   \n",
      "publications                       6.431894e-07              1.120488e-07   \n",
      "citations                          6.694560e-07             -3.268163e-07   \n",
      "influence                         -7.065063e-07             -3.453592e-08   \n",
      "log_publications                  -4.308558e-04             -2.348475e-04   \n",
      "log_citations                     -3.753778e-04              5.667344e-05   \n",
      "log_influence                      2.874527e-04             -3.330757e-04   \n",
      "\n",
      "                          log_broad_impact   log_patents  publications  \\\n",
      "const                        -1.550495e-03 -7.070856e-04  1.586744e-05   \n",
      "log_quality_of_faculty        3.877976e-04 -1.175527e-04 -2.363321e-06   \n",
      "log_alumni_employment         2.272358e-04 -1.581916e-04  6.431894e-07   \n",
      "log_quality_of_education      3.230335e-04  4.997277e-05  1.120488e-07   \n",
      "log_broad_impact              8.222301e-03 -1.697388e-07 -4.554144e-06   \n",
      "log_patents                  -1.697388e-07  7.086920e-04 -3.370332e-07   \n",
      "publications                 -4.554144e-06 -3.370332e-07  8.774415e-08   \n",
      "citations                     3.967702e-06  1.897422e-07 -4.353973e-08   \n",
      "influence                     1.626550e-06  3.610089e-07 -3.928465e-08   \n",
      "log_publications             -1.785136e-03 -2.968068e-04 -1.787663e-05   \n",
      "log_citations                -3.346033e-03 -4.896825e-05  1.223684e-05   \n",
      "log_influence                -3.845476e-03 -7.696914e-05  9.629432e-06   \n",
      "\n",
      "                             citations     influence  log_publications  \\\n",
      "const                     1.113307e-05  4.080472e-06         -0.003106   \n",
      "log_quality_of_faculty    2.822162e-06  7.090488e-06          0.001021   \n",
      "log_alumni_employment     6.694560e-07 -7.065063e-07         -0.000431   \n",
      "log_quality_of_education -3.268163e-07 -3.453592e-08         -0.000235   \n",
      "log_broad_impact          3.967702e-06  1.626550e-06         -0.001785   \n",
      "log_patents               1.897422e-07  3.610089e-07         -0.000297   \n",
      "publications             -4.353973e-08 -3.928465e-08         -0.000018   \n",
      "citations                 1.259215e-07 -4.544011e-08          0.000010   \n",
      "influence                -4.544011e-08  1.070257e-07          0.000007   \n",
      "log_publications          1.023503e-05  7.430278e-06          0.007288   \n",
      "log_citations            -3.030694e-05  1.059636e-05         -0.002978   \n",
      "log_influence             9.949594e-06 -2.737376e-05         -0.002094   \n",
      "\n",
      "                          log_citations  log_influence  \n",
      "const                         -0.001125       0.000389  \n",
      "log_quality_of_faculty        -0.000981      -0.002896  \n",
      "log_alumni_employment         -0.000375       0.000287  \n",
      "log_quality_of_education       0.000057      -0.000333  \n",
      "log_broad_impact              -0.003346      -0.003845  \n",
      "log_patents                   -0.000049      -0.000077  \n",
      "publications                   0.000012       0.000010  \n",
      "citations                     -0.000030       0.000010  \n",
      "influence                      0.000011      -0.000027  \n",
      "log_publications              -0.002978      -0.002094  \n",
      "log_citations                  0.010579      -0.002499  \n",
      "log_influence                 -0.002499       0.011503  \n",
      "obj.outlier_test = <bound method OLSResults.outlier_test of <statsmodels.regression.linear_model.OLSResults object at 0x366247d00>>\n",
      "obj.params = const                       106.474608\n",
      "log_quality_of_faculty       -2.347037\n",
      "log_alumni_employment        -1.212657\n",
      "log_quality_of_education     -0.781887\n",
      "log_broad_impact             -0.442575\n",
      "log_patents                  -0.468514\n",
      "publications                  0.001171\n",
      "citations                     0.004276\n",
      "influence                     0.004790\n",
      "log_publications             -0.135535\n",
      "log_citations                -0.921905\n",
      "log_influence                -1.630517\n",
      "dtype: float64\n",
      "obj.predict = <bound method Results.predict of <statsmodels.regression.linear_model.OLSResults object at 0x366247d00>>\n",
      "obj.pvalues = const                       0.000000e+00\n",
      "log_quality_of_faculty      3.465031e-61\n",
      "log_alumni_employment       2.342200e-88\n",
      "log_quality_of_education    4.307946e-19\n",
      "log_broad_impact            1.915421e-02\n",
      "log_patents                 6.214093e-17\n",
      "publications                5.777578e-02\n",
      "citations                   8.503539e-09\n",
      "influence                   2.957878e-12\n",
      "log_publications            4.457104e-01\n",
      "log_citations               1.761516e-05\n",
      "log_influence               4.408420e-13\n",
      "dtype: float64\n",
      "obj.remove_data = <bound method LikelihoodModelResults.remove_data of <statsmodels.regression.linear_model.OLSResults object at 0x366247d00>>\n",
      "obj.resid = 1650    0.973049\n",
      "726    -0.868656\n",
      "1711   -0.846404\n",
      "1760    1.767976\n",
      "794     0.733346\n",
      "          ...   \n",
      "421     0.169871\n",
      "1459   -0.913845\n",
      "1983   -0.350030\n",
      "1954    0.837057\n",
      "2133    0.017536\n",
      "Length: 1600, dtype: float64\n",
      "obj.resid_pearson = array([ 0.4674879 , -0.41733392, -0.40664307, ..., -0.16816704,\n",
      "        0.40215259,  0.00842473])\n",
      "obj.rsquared = 0.9053336896251489\n",
      "obj.rsquared_adj = 0.9046779406238118\n",
      "obj.save = <bound method ResultsWrapper.save of <statsmodels.regression.linear_model.RegressionResultsWrapper object at 0x36acddee0>>\n",
      "obj.scale = 4.332398493008301\n",
      "obj.ssr = 6879.848806897183\n",
      "obj.summary = <bound method RegressionResults.summary of <statsmodels.regression.linear_model.OLSResults object at 0x366247d00>>\n",
      "obj.summary2 = <bound method RegressionResults.summary2 of <statsmodels.regression.linear_model.OLSResults object at 0x366247d00>>\n",
      "obj.t_test = <bound method LikelihoodModelResults.t_test of <statsmodels.regression.linear_model.OLSResults object at 0x366247d00>>\n",
      "obj.t_test_pairwise = <bound method LikelihoodModelResults.t_test_pairwise of <statsmodels.regression.linear_model.OLSResults object at 0x366247d00>>\n",
      "obj.tvalues = const                       194.614736\n",
      "log_quality_of_faculty      -17.239954\n",
      "log_alumni_employment       -21.244609\n",
      "log_quality_of_education     -9.043462\n",
      "log_broad_impact             -2.344911\n",
      "log_patents                  -8.455315\n",
      "publications                  1.898770\n",
      "citations                     5.789268\n",
      "influence                     7.034707\n",
      "log_publications             -0.762776\n",
      "log_citations                -4.306324\n",
      "log_influence                -7.303775\n",
      "dtype: float64\n",
      "obj.uncentered_tss = 3621944.2192000006\n",
      "obj.use_t = True\n",
      "obj.wald_test = <bound method LikelihoodModelResults.wald_test of <statsmodels.regression.linear_model.OLSResults object at 0x366247d00>>\n",
      "obj.wald_test_terms = <bound method LikelihoodModelResults.wald_test_terms of <statsmodels.regression.linear_model.OLSResults object at 0x366247d00>>\n",
      "obj.wresid = 1650    0.973049\n",
      "726    -0.868656\n",
      "1711   -0.846404\n",
      "1760    1.767976\n",
      "794     0.733346\n",
      "          ...   \n",
      "421     0.169871\n",
      "1459   -0.913845\n",
      "1983   -0.350030\n",
      "1954    0.837057\n",
      "2133    0.017536\n",
      "Length: 1600, dtype: float64\n"
     ]
    }
   ]
  },
  {
   "cell_type": "markdown",
   "source": [
    "还不如看 summary 的定义"
   ],
   "metadata": {
    "collapsed": false
   }
  },
  {
   "cell_type": "markdown",
   "source": [
    "R-squared: self.rsquared\n",
    "Adjusted R-squared: self.rsquared_adj\n",
    "F-statistic: self.fvalue\n",
    "Prob (F-statistic): self.f_pvalue\n",
    "\n",
    "制表在 summary_params_2dflat 中\n",
    "coef: res.params\n",
    "std err: res.bse\n",
    "t: res.tvalues\n",
    "P>|t|: res.pvalues\n",
    "Confident Inverval [0.025 0.975]: res.conf_int(alpha=0.05)"
   ],
   "metadata": {
    "collapsed": false
   }
  },
  {
   "cell_type": "code",
   "execution_count": 68,
   "outputs": [
    {
     "name": "stdout",
     "output_type": "stream",
     "text": [
      "<class 'pandas.core.series.Series'> \n",
      " const                       0.547105\n",
      "log_quality_of_faculty      0.136139\n",
      "log_alumni_employment       0.057081\n",
      "log_quality_of_education    0.086459\n",
      "log_broad_impact            0.188739\n",
      "log_patents                 0.055411\n",
      "publications                0.000617\n",
      "citations                   0.000739\n",
      "influence                   0.000681\n",
      "log_publications            0.177686\n",
      "log_citations               0.214082\n",
      "log_influence               0.223243\n",
      "dtype: float64\n"
     ]
    }
   ],
   "source": [
    "print(type(E8.bse), \"\\n\", E8.bse)"
   ],
   "metadata": {
    "collapsed": false,
    "pycharm": {
     "name": "#%%\n"
    }
   }
  },
  {
   "cell_type": "markdown",
   "source": [
    "开始自动化的尝试（放在 feature_selection.py 里了）"
   ],
   "metadata": {
    "collapsed": false
   }
  },
  {
   "cell_type": "code",
   "execution_count": 9,
   "outputs": [
    {
     "name": "stdout",
     "output_type": "stream",
     "text": [
      "2.1565671124677306\n"
     ]
    },
    {
     "data": {
      "text/plain": "<Figure size 432x288 with 1 Axes>",
      "image/png": "[encoded data removed]"
     },
     "metadata": {
      "needs_background": "light"
     },
     "output_type": "display_data"
    }
   ],
   "source": [
    "import pandas as pd\n",
    "import numpy as np\n",
    "from sklearn.model_selection import train_test_split, cross_validate  # 划分数据集函数\n",
    "from sklearn.linear_model import LinearRegression\n",
    "import matplotlib.pyplot as plt\n",
    "\n",
    "data_df = pd.read_csv('./cwurData.csv')  # 读入 csv 文件为 pandas 的 DataFrame\n",
    "data_df = data_df.dropna()  # 舍去包含 NaN 的 row\n",
    "\n",
    "feature_cols = ['quality_of_faculty', 'publications', 'citations', 'alumni_employment',\n",
    "                'influence', 'quality_of_education', 'patents', 'broad_impact']\n",
    "\n",
    "for column in feature_cols:\n",
    "    data_df['log_' + column] = np.log2(data_df[column])\n",
    "\n",
    "# choose = ['log_quality_of_faculty', 'log_alumni_employment',\n",
    "          # 'log_quality_of_education', 'log_patents']\n",
    "choose = ['log_quality_of_faculty', 'log_alumni_employment', 'log_quality_of_education', 'log_patents',\n",
    "          'influence', 'log_influence']\n",
    "\n",
    "X = data_df[choose].values\n",
    "Y = data_df['score'].values\n",
    "\n",
    "total_RMSE = []\n",
    "REPEAT_TIMES = 10000\n",
    "\n",
    "for i in range(0, REPEAT_TIMES):\n",
    "    x_train, x_test, y_train, y_test = train_test_split(X, Y, test_size=0.2)\n",
    "\n",
    "    lr = LinearRegression()\n",
    "    lr.fit(x_train, y_train)\n",
    "\n",
    "    RMSE = 0\n",
    "    for sample, label in zip(x_test, y_test):\n",
    "        y_hat = lr.predict(sample.reshape(1, -1))\n",
    "        RMSE += pow(label - y_hat, 2)\n",
    "\n",
    "    RMSE = np.sqrt(RMSE / len(y_test))\n",
    "    total_RMSE.append(RMSE[0])\n",
    "\n",
    "mean = sum(total_RMSE) / REPEAT_TIMES\n",
    "print(mean)\n",
    "\n",
    "plt.xlim([min(total_RMSE) - 0.5, max(total_RMSE) + 0.5])\n",
    "plt.hist(total_RMSE, bins=30)\n",
    "plt.title('Test Set RMSE Frequency')\n",
    "plt.xlabel('RMSE')\n",
    "plt.ylabel('freq.')\n",
    "plt.savefig('RMSE_no_br_hist.pdf')"
   ],
   "metadata": {
    "collapsed": false,
    "pycharm": {
     "name": "#%%\n"
    }
   }
  },
  {
   "cell_type": "code",
   "execution_count": 10,
   "outputs": [
    {
     "name": "stdout",
     "output_type": "stream",
     "text": [
      "3.0545993536910583 1.560867554933328\n"
     ]
    }
   ],
   "source": [
    "print(max(total_RMSE), min(total_RMSE))"
   ],
   "metadata": {
    "collapsed": false,
    "pycharm": {
     "name": "#%%\n"
    }
   }
  },
  {
   "cell_type": "markdown",
   "source": [
    "## 离散变量使用测试"
   ],
   "metadata": {
    "collapsed": false
   }
  },
  {
   "cell_type": "code",
   "execution_count": 11,
   "outputs": [
    {
     "data": {
      "text/plain": "USA                     458\nChina                   167\nJapan                   148\nUnited Kingdom          129\nGermany                 110\nFrance                   99\nItaly                    94\nSpain                    81\nSouth Korea              70\nCanada                   65\nAustralia                54\nTaiwan                   46\nBrazil                   36\nIndia                    31\nNetherlands              26\nAustria                  24\nSweden                   22\nTurkey                   20\nBelgium                  20\nFinland                  18\nPoland                   18\nSwitzerland              18\nIran                     16\nIreland                  16\nGreece                   14\nPortugal                 14\nIsrael                   14\nHungary                  12\nHong Kong                12\nNew Zealand              12\nNorway                   10\nCzech Republic           10\nSouth Africa             10\nDenmark                  10\nEgypt                     8\nChile                     8\nSaudi Arabia              8\nRussia                    8\nArgentina                 7\nThailand                  6\nMalaysia                  6\nMexico                    4\nColombia                  4\nSingapore                 4\nSlovenia                  4\nRomania                   3\nLebanon                   2\nCroatia                   2\nEstonia                   2\nSlovak Republic           2\nIceland                   2\nSerbia                    2\nBulgaria                  2\nLithuania                 2\nUganda                    2\nUnited Arab Emirates      2\nUruguay                   2\nCyprus                    2\nPuerto Rico               2\nName: region, dtype: int64"
     },
     "execution_count": 11,
     "metadata": {},
     "output_type": "execute_result"
    }
   ],
   "source": [
    "data_df[\"region\"].value_counts()"
   ],
   "metadata": {
    "collapsed": false,
    "pycharm": {
     "name": "#%%\n"
    }
   }
  },
  {
   "cell_type": "code",
   "execution_count": 12,
   "outputs": [
    {
     "data": {
      "text/plain": "False    1542\nTrue      458\nName: region, dtype: int64"
     },
     "execution_count": 12,
     "metadata": {},
     "output_type": "execute_result"
    }
   ],
   "source": [
    "data_USA = data_df.region == 'USA'\n",
    "data_USA.value_counts()"
   ],
   "metadata": {
    "collapsed": false,
    "pycharm": {
     "name": "#%%\n"
    }
   }
  },
  {
   "cell_type": "code",
   "execution_count": 17,
   "outputs": [
    {
     "data": {
      "text/plain": "(458, 22)"
     },
     "execution_count": 17,
     "metadata": {},
     "output_type": "execute_result"
    }
   ],
   "source": [
    "data_USAA = data_df[data_USA]\n",
    "data_USAA.shape"
   ],
   "metadata": {
    "collapsed": false,
    "pycharm": {
     "name": "#%%\n"
    }
   }
  },
  {
   "cell_type": "code",
   "execution_count": 18,
   "outputs": [
    {
     "data": {
      "text/plain": "(1542, 22)"
     },
     "execution_count": 18,
     "metadata": {},
     "output_type": "execute_result"
    }
   ],
   "source": [
    "data_NUSA = data_df[~data_USA]\n",
    "data_NUSA.shape"
   ],
   "metadata": {
    "collapsed": false,
    "pycharm": {
     "name": "#%%\n"
    }
   }
  },
  {
   "cell_type": "code",
   "execution_count": 20,
   "outputs": [
    {
     "data": {
      "text/plain": "<Figure size 1080x360 with 2 Axes>",
      "image/png": "[encoded data removed]"
     },
     "metadata": {},
     "output_type": "display_data"
    }
   ],
   "source": [
    "import numpy as np\n",
    "import seaborn as sns\n",
    "import matplotlib.pyplot as plt\n",
    "\n",
    "fig, axs = plt.subplots(1, 2, figsize=(15,5))\n",
    "plt_data = data_USAA[['national_rank', 'score']]\n",
    "plt_data2 = data_NUSA[['national_rank', 'score']]\n",
    "sns.set_palette(\"hls\", 8, color_codes=True)\n",
    "sns.set_theme(style=\"ticks\", rc={\"axes.spines.right\": False, \"axes.spines.top\": False})\n",
    "sns.regplot(x='national_rank', y='score', data=plt_data, logx=True, ax = axs[0])\n",
    "sns.regplot(x='national_rank', y='score', data=plt_data2, logx=True, ax = axs[1])\n",
    "\n",
    "plt.savefig('./reports/national_rank_Split_log.pdf')"
   ],
   "metadata": {
    "collapsed": false,
    "pycharm": {
     "name": "#%%\n"
    }
   }
  },
  {
   "cell_type": "code",
   "execution_count": 21,
   "outputs": [
    {
     "name": "stdout",
     "output_type": "stream",
     "text": [
      "1.4219299360355644 1.9836099652670736 3.2156051976537943\n"
     ]
    },
    {
     "data": {
      "text/plain": "<Figure size 432x288 with 1 Axes>",
      "image/png": "[encoded data removed]"
     },
     "metadata": {},
     "output_type": "display_data"
    }
   ],
   "source": [
    "import pandas as pd\n",
    "import numpy as np\n",
    "from sklearn.model_selection import train_test_split, cross_validate  # 划分数据集函数\n",
    "from sklearn.linear_model import LinearRegression\n",
    "import matplotlib.pyplot as plt\n",
    "\n",
    "data_df = pd.read_csv('./cwurData.csv')  # 读入 csv 文件为 pandas 的 DataFrame\n",
    "data_df = data_df.dropna()  # 舍去包含 NaN 的 row\n",
    "\n",
    "feature_cols = ['quality_of_faculty', 'publications', 'citations', 'alumni_employment',\n",
    "                'influence', 'quality_of_education', 'patents', 'broad_impact', 'national_rank']\n",
    "\n",
    "for column in feature_cols:\n",
    "    data_df['log_' + column] = np.log2(data_df[column])\n",
    "\n",
    "choose = ['log_quality_of_faculty', 'log_alumni_employment', 'log_quality_of_education', 'log_patents',\n",
    "          'influence', 'log_influence', 'log_national_rank']\n",
    "\n",
    "total_RMSE = []\n",
    "REPEAT_TIMES = 10000\n",
    "\n",
    "for i in range(0, REPEAT_TIMES):\n",
    "\n",
    "    train_df = data_df.sample(frac=0.8)\n",
    "    test_df = data_df.drop(train_df.index)\n",
    "\n",
    "    flag = train_df.region == 'USA'\n",
    "    data_USA = train_df[flag]\n",
    "    data_NUSA = train_df[~flag]\n",
    "\n",
    "    x1_train = data_USA[choose].values\n",
    "    y1_train = data_USA['score'].values\n",
    "    x2_train = data_NUSA[choose].values\n",
    "    y2_train = data_NUSA['score'].values\n",
    "\n",
    "    x_test = test_df[choose].values\n",
    "    y_test = test_df['score'].values\n",
    "    x_flag = (test_df['region'] == 'USA').values\n",
    "\n",
    "    lr1 = LinearRegression()\n",
    "    lr2 = LinearRegression()\n",
    "    lr1.fit(x1_train, y1_train)\n",
    "    lr2.fit(x2_train, y2_train)\n",
    "\n",
    "    RMSE = 0\n",
    "    for sample, label, flag in zip(x_test, y_test, x_flag):\n",
    "        y_hat = lr1.predict(sample.reshape(1, -1)) if flag else lr2.predict(sample.reshape(1, -1))\n",
    "        RMSE += pow(label - y_hat, 2)\n",
    "\n",
    "    RMSE = np.sqrt(RMSE / len(y_test))\n",
    "    total_RMSE.append(RMSE[0])\n",
    "\n",
    "mean = sum(total_RMSE) / REPEAT_TIMES\n",
    "print(min(total_RMSE), mean, max(total_RMSE))\n",
    "\n",
    "plt.xlim([min(total_RMSE) - 0.5, max(total_RMSE) + 0.5])\n",
    "plt.hist(total_RMSE, bins=30)\n",
    "plt.title('Test Set RMSE Frequency')\n",
    "plt.xlabel('RMSE')\n",
    "plt.ylabel('freq.')\n",
    "plt.savefig('RMSE_no_br_hist.pdf')"
   ],
   "metadata": {
    "collapsed": false,
    "pycharm": {
     "name": "#%%\n"
    }
   }
  },
  {
   "cell_type": "code",
   "execution_count": null,
   "outputs": [],
   "source": [
    "pps = data_df[data_df.region == 'USA']\n",
    "pps.shape"
   ],
   "metadata": {
    "collapsed": false,
    "pycharm": {
     "name": "#%%\n"
    }
   }
  },
  {
   "cell_type": "markdown",
   "source": [
    "手抖关掉了。。。"
   ],
   "metadata": {
    "collapsed": false
   }
  },
  {
   "cell_type": "code",
   "execution_count": 1,
   "outputs": [],
   "source": [
    "import pandas as pd\n",
    "import numpy as np\n",
    "from sklearn.model_selection import train_test_split, cross_validate  # 划分数据集函数\n",
    "from sklearn.linear_model import LinearRegression\n",
    "import matplotlib.pyplot as plt\n",
    "\n",
    "data_df = pd.read_csv('./cwurData.csv')  # 读入 csv 文件为 pandas 的 DataFrame\n",
    "data_df = data_df.dropna()  # 舍去包含 NaN 的 row\n",
    "\n",
    "feature_cols = ['quality_of_faculty', 'publications', 'citations', 'alumni_employment',\n",
    "                'influence', 'quality_of_education', 'patents', 'broad_impact', 'national_rank']\n",
    "\n",
    "for column in feature_cols:\n",
    "    data_df['log_' + column] = np.log2(data_df[column])\n",
    "\n",
    "choose = ['log_quality_of_faculty', 'log_alumni_employment', 'log_quality_of_education', 'log_patents',\n",
    "          'influence', 'log_influence', 'log_national_rank']\n",
    "\n",
    "total_RMSE = []\n",
    "REPEAT_TIMES = 10000"
   ],
   "metadata": {
    "collapsed": false,
    "pycharm": {
     "name": "#%%\n"
    }
   }
  },
  {
   "cell_type": "code",
   "execution_count": 2,
   "outputs": [
    {
     "data": {
      "text/plain": "(458, 23)"
     },
     "execution_count": 2,
     "metadata": {},
     "output_type": "execute_result"
    }
   ],
   "source": [
    "pps = data_df[data_df.region == 'USA']\n",
    "pps.shape"
   ],
   "metadata": {
    "collapsed": false,
    "pycharm": {
     "name": "#%%\n"
    }
   }
  },
  {
   "cell_type": "code",
   "execution_count": 4,
   "outputs": [
    {
     "ename": "InvalidIndexError",
     "evalue": "(200     False\n201     False\n202     False\n203      True\n204      True\n        ...  \n2195     True\n2196     True\n2197     True\n2198     True\n2199     True\nName: region, Length: 2000, dtype: bool, 200     False\n201     False\n202     False\n203     False\n204     False\n        ...  \n2195    False\n2196    False\n2197    False\n2198    False\n2199     True\nName: region, Length: 2000, dtype: bool)",
     "output_type": "error",
     "traceback": [
      "\u001B[0;31m---------------------------------------------------------------------------\u001B[0m",
      "\u001B[0;31mTypeError\u001B[0m                                 Traceback (most recent call last)",
      "File \u001B[0;32m~/PycharmProjects/yufeng_experiments/venv/lib/python3.9/site-packages/pandas/core/indexes/base.py:3621\u001B[0m, in \u001B[0;36mIndex.get_loc\u001B[0;34m(self, key, method, tolerance)\u001B[0m\n\u001B[1;32m   3620\u001B[0m \u001B[38;5;28;01mtry\u001B[39;00m:\n\u001B[0;32m-> 3621\u001B[0m     \u001B[38;5;28;01mreturn\u001B[39;00m \u001B[38;5;28;43mself\u001B[39;49m\u001B[38;5;241;43m.\u001B[39;49m\u001B[43m_engine\u001B[49m\u001B[38;5;241;43m.\u001B[39;49m\u001B[43mget_loc\u001B[49m\u001B[43m(\u001B[49m\u001B[43mcasted_key\u001B[49m\u001B[43m)\u001B[49m\n\u001B[1;32m   3622\u001B[0m \u001B[38;5;28;01mexcept\u001B[39;00m \u001B[38;5;167;01mKeyError\u001B[39;00m \u001B[38;5;28;01mas\u001B[39;00m err:\n",
      "File \u001B[0;32m~/PycharmProjects/yufeng_experiments/venv/lib/python3.9/site-packages/pandas/_libs/index.pyx:136\u001B[0m, in \u001B[0;36mpandas._libs.index.IndexEngine.get_loc\u001B[0;34m()\u001B[0m\n",
      "File \u001B[0;32m~/PycharmProjects/yufeng_experiments/venv/lib/python3.9/site-packages/pandas/_libs/index.pyx:142\u001B[0m, in \u001B[0;36mpandas._libs.index.IndexEngine.get_loc\u001B[0;34m()\u001B[0m\n",
      "\u001B[0;31mTypeError\u001B[0m: '(200     False\n201     False\n202     False\n203      True\n204      True\n        ...  \n2195     True\n2196     True\n2197     True\n2198     True\n2199     True\nName: region, Length: 2000, dtype: bool, 200     False\n201     False\n202     False\n203     False\n204     False\n        ...  \n2195    False\n2196    False\n2197    False\n2198    False\n2199     True\nName: region, Length: 2000, dtype: bool)' is an invalid key",
      "\nDuring handling of the above exception, another exception occurred:\n",
      "\u001B[0;31mInvalidIndexError\u001B[0m                         Traceback (most recent call last)",
      "Input \u001B[0;32mIn [4]\u001B[0m, in \u001B[0;36m<cell line: 1>\u001B[0;34m()\u001B[0m\n\u001B[0;32m----> 1\u001B[0m pps2 \u001B[38;5;241m=\u001B[39m \u001B[43mdata_df\u001B[49m\u001B[43m[\u001B[49m\u001B[43mdata_df\u001B[49m\u001B[38;5;241;43m.\u001B[39;49m\u001B[43mregion\u001B[49m\u001B[43m \u001B[49m\u001B[38;5;241;43m!=\u001B[39;49m\u001B[43m \u001B[49m\u001B[38;5;124;43m'\u001B[39;49m\u001B[38;5;124;43mUSA\u001B[39;49m\u001B[38;5;124;43m'\u001B[39;49m\u001B[43m,\u001B[49m\u001B[43m \u001B[49m\u001B[43mdata_df\u001B[49m\u001B[38;5;241;43m.\u001B[39;49m\u001B[43mregion\u001B[49m\u001B[43m \u001B[49m\u001B[38;5;241;43m==\u001B[39;49m\u001B[43m \u001B[49m\u001B[38;5;124;43m'\u001B[39;49m\u001B[38;5;124;43mChina\u001B[39;49m\u001B[38;5;124;43m'\u001B[39;49m\u001B[43m]\u001B[49m\n\u001B[1;32m      2\u001B[0m pps2\u001B[38;5;241m.\u001B[39mshape\n",
      "File \u001B[0;32m~/PycharmProjects/yufeng_experiments/venv/lib/python3.9/site-packages/pandas/core/frame.py:3505\u001B[0m, in \u001B[0;36mDataFrame.__getitem__\u001B[0;34m(self, key)\u001B[0m\n\u001B[1;32m   3503\u001B[0m \u001B[38;5;28;01mif\u001B[39;00m \u001B[38;5;28mself\u001B[39m\u001B[38;5;241m.\u001B[39mcolumns\u001B[38;5;241m.\u001B[39mnlevels \u001B[38;5;241m>\u001B[39m \u001B[38;5;241m1\u001B[39m:\n\u001B[1;32m   3504\u001B[0m     \u001B[38;5;28;01mreturn\u001B[39;00m \u001B[38;5;28mself\u001B[39m\u001B[38;5;241m.\u001B[39m_getitem_multilevel(key)\n\u001B[0;32m-> 3505\u001B[0m indexer \u001B[38;5;241m=\u001B[39m \u001B[38;5;28;43mself\u001B[39;49m\u001B[38;5;241;43m.\u001B[39;49m\u001B[43mcolumns\u001B[49m\u001B[38;5;241;43m.\u001B[39;49m\u001B[43mget_loc\u001B[49m\u001B[43m(\u001B[49m\u001B[43mkey\u001B[49m\u001B[43m)\u001B[49m\n\u001B[1;32m   3506\u001B[0m \u001B[38;5;28;01mif\u001B[39;00m is_integer(indexer):\n\u001B[1;32m   3507\u001B[0m     indexer \u001B[38;5;241m=\u001B[39m [indexer]\n",
      "File \u001B[0;32m~/PycharmProjects/yufeng_experiments/venv/lib/python3.9/site-packages/pandas/core/indexes/base.py:3628\u001B[0m, in \u001B[0;36mIndex.get_loc\u001B[0;34m(self, key, method, tolerance)\u001B[0m\n\u001B[1;32m   3623\u001B[0m         \u001B[38;5;28;01mraise\u001B[39;00m \u001B[38;5;167;01mKeyError\u001B[39;00m(key) \u001B[38;5;28;01mfrom\u001B[39;00m \u001B[38;5;21;01merr\u001B[39;00m\n\u001B[1;32m   3624\u001B[0m     \u001B[38;5;28;01mexcept\u001B[39;00m \u001B[38;5;167;01mTypeError\u001B[39;00m:\n\u001B[1;32m   3625\u001B[0m         \u001B[38;5;66;03m# If we have a listlike key, _check_indexing_error will raise\u001B[39;00m\n\u001B[1;32m   3626\u001B[0m         \u001B[38;5;66;03m#  InvalidIndexError. Otherwise we fall through and re-raise\u001B[39;00m\n\u001B[1;32m   3627\u001B[0m         \u001B[38;5;66;03m#  the TypeError.\u001B[39;00m\n\u001B[0;32m-> 3628\u001B[0m         \u001B[38;5;28;43mself\u001B[39;49m\u001B[38;5;241;43m.\u001B[39;49m\u001B[43m_check_indexing_error\u001B[49m\u001B[43m(\u001B[49m\u001B[43mkey\u001B[49m\u001B[43m)\u001B[49m\n\u001B[1;32m   3629\u001B[0m         \u001B[38;5;28;01mraise\u001B[39;00m\n\u001B[1;32m   3631\u001B[0m \u001B[38;5;66;03m# GH#42269\u001B[39;00m\n",
      "File \u001B[0;32m~/PycharmProjects/yufeng_experiments/venv/lib/python3.9/site-packages/pandas/core/indexes/base.py:5637\u001B[0m, in \u001B[0;36mIndex._check_indexing_error\u001B[0;34m(self, key)\u001B[0m\n\u001B[1;32m   5633\u001B[0m \u001B[38;5;28;01mdef\u001B[39;00m \u001B[38;5;21m_check_indexing_error\u001B[39m(\u001B[38;5;28mself\u001B[39m, key):\n\u001B[1;32m   5634\u001B[0m     \u001B[38;5;28;01mif\u001B[39;00m \u001B[38;5;129;01mnot\u001B[39;00m is_scalar(key):\n\u001B[1;32m   5635\u001B[0m         \u001B[38;5;66;03m# if key is not a scalar, directly raise an error (the code below\u001B[39;00m\n\u001B[1;32m   5636\u001B[0m         \u001B[38;5;66;03m# would convert to numpy arrays and raise later any way) - GH29926\u001B[39;00m\n\u001B[0;32m-> 5637\u001B[0m         \u001B[38;5;28;01mraise\u001B[39;00m InvalidIndexError(key)\n",
      "\u001B[0;31mInvalidIndexError\u001B[0m: (200     False\n201     False\n202     False\n203      True\n204      True\n        ...  \n2195     True\n2196     True\n2197     True\n2198     True\n2199     True\nName: region, Length: 2000, dtype: bool, 200     False\n201     False\n202     False\n203     False\n204     False\n        ...  \n2195    False\n2196    False\n2197    False\n2198    False\n2199     True\nName: region, Length: 2000, dtype: bool)"
     ]
    }
   ],
   "source": [
    "pps2 = data_df[data_df.region != 'USA', data_df.region == 'China']\n",
    "pps2.shape"
   ],
   "metadata": {
    "collapsed": false,
    "pycharm": {
     "name": "#%%\n"
    }
   }
  },
  {
   "cell_type": "markdown",
   "source": [
    "那这就比较难办了。。。"
   ],
   "metadata": {
    "collapsed": false
   }
  },
  {
   "cell_type": "code",
   "execution_count": 5,
   "outputs": [
    {
     "name": "stdout",
     "output_type": "stream",
     "text": [
      "[2.40222141]\n"
     ]
    }
   ],
   "source": [
    "train_df = data_df.sample(frac=0.8)\n",
    "test_df = data_df.drop(train_df.index)\n",
    "\n",
    "flag1 = train_df.region == 'USA'\n",
    "data_USA = train_df[flag1]\n",
    "data_NUSA = train_df[~flag1]\n",
    "\n",
    "flag2 = data_NUSA.region == 'China'\n",
    "data_CN = data_NUSA[flag2]\n",
    "data_NCN = data_NUSA[~flag2]\n",
    "\n",
    "flag3 = data_NCN.region == 'Japan'\n",
    "data_JP = data_NCN[flag3]\n",
    "data_NJP = data_NCN[~flag3]\n",
    "\n",
    "flag4 = data_NCN.region == 'United Kingdom'\n",
    "data_UK = data_NCN[flag4]\n",
    "data_NUK = data_NCN[~flag4]\n",
    "\n",
    "flag5 = data_NCN.region == 'Germany'\n",
    "data_GM = data_NCN[flag5]\n",
    "data_OT = data_NCN[~flag5]\n",
    "\n",
    "x1_train = data_USA[choose].values\n",
    "y1_train = data_USA['score'].values\n",
    "x2_train = data_CN[choose].values\n",
    "y2_train = data_CN['score'].values\n",
    "x3_train = data_JP[choose].values\n",
    "y3_train = data_JP['score'].values\n",
    "x4_train = data_UK[choose].values\n",
    "y4_train = data_UK['score'].values\n",
    "x5_train = data_GM[choose].values\n",
    "y5_train = data_GM['score'].values\n",
    "x6_train = data_OT[choose].values\n",
    "y6_train = data_OT['score'].values\n",
    "\n",
    "x_test = test_df[choose].values\n",
    "y_test = test_df['score'].values\n",
    "x_flag = (test_df['region'] == 'USA').values\n",
    "\n",
    "lr1 = LinearRegression()\n",
    "lr2 = LinearRegression()\n",
    "lr3 = LinearRegression()\n",
    "lr4 = LinearRegression()\n",
    "lr5 = LinearRegression()\n",
    "lr6 = LinearRegression()\n",
    "\n",
    "lr1.fit(x1_train, y1_train)\n",
    "lr2.fit(x2_train, y2_train)\n",
    "lr3.fit(x3_train, y3_train)\n",
    "lr4.fit(x4_train, y4_train)\n",
    "lr5.fit(x5_train, y5_train)\n",
    "lr6.fit(x6_train, y6_train)\n",
    "\n",
    "RMSE = 0\n",
    "for sample, label, flag in zip(x_test, y_test, x_flag):\n",
    "    if flag == 'USA':\n",
    "        y_hat = lr1.predict(sample.reshape(1, -1))\n",
    "    elif flag == 'China':\n",
    "        y_hat = lr2.predict(sample.reshape(1, -1))\n",
    "    elif flag == 'Japan':\n",
    "        y_hat = lr3.predict(sample.reshape(1, -1))\n",
    "    elif flag == 'United Kingdom':\n",
    "        y_hat = lr4.predict(sample.reshape(1, -1))\n",
    "    elif flag == 'Germany':\n",
    "        y_hat = lr5.predict(sample.reshape(1, -1))\n",
    "    else:\n",
    "        y_hat = lr6.predict(sample.reshape(1, -1))\n",
    "\n",
    "    RMSE += pow(label - y_hat, 2)\n",
    "\n",
    "RMSE = np.sqrt(RMSE / len(y_test))\n",
    "print(RMSE)"
   ],
   "metadata": {
    "collapsed": false,
    "pycharm": {
     "name": "#%%\n"
    }
   }
  },
  {
   "cell_type": "code",
   "execution_count": 6,
   "outputs": [
    {
     "name": "stdout",
     "output_type": "stream",
     "text": [
      "1.4262485468808155 2.215194310269143 3.892632865217301\n"
     ]
    },
    {
     "data": {
      "text/plain": "<Figure size 432x288 with 1 Axes>",
      "image/png": "[encoded data removed]"
     },
     "metadata": {
      "needs_background": "light"
     },
     "output_type": "display_data"
    }
   ],
   "source": [
    "import pandas as pd\n",
    "import numpy as np\n",
    "from sklearn.model_selection import train_test_split, cross_validate  # 划分数据集函数\n",
    "from sklearn.linear_model import LinearRegression\n",
    "import matplotlib.pyplot as plt\n",
    "\n",
    "data_df = pd.read_csv('./cwurData.csv')  # 读入 csv 文件为 pandas 的 DataFrame\n",
    "data_df = data_df.dropna()  # 舍去包含 NaN 的 row\n",
    "\n",
    "feature_cols = ['quality_of_faculty', 'publications', 'citations', 'alumni_employment',\n",
    "                'influence', 'quality_of_education', 'patents', 'broad_impact', 'national_rank']\n",
    "\n",
    "for column in feature_cols:\n",
    "    data_df['log_' + column] = np.log2(data_df[column])\n",
    "\n",
    "choose = ['log_quality_of_faculty', 'log_alumni_employment', 'log_quality_of_education', 'log_patents',\n",
    "          'influence', 'log_influence', 'log_national_rank']\n",
    "\n",
    "total_RMSE = []\n",
    "REPEAT_TIMES = 10000\n",
    "\n",
    "for i in range(0, REPEAT_TIMES):\n",
    "\n",
    "    train_df = data_df.sample(frac=0.8)\n",
    "    test_df = data_df.drop(train_df.index)\n",
    "\n",
    "    flag1 = train_df.region == 'USA'\n",
    "    data_USA = train_df[flag1]\n",
    "    data_NUSA = train_df[~flag1]\n",
    "\n",
    "    flag2 = data_NUSA.region == 'China'\n",
    "    data_CN = data_NUSA[flag2]\n",
    "    data_NCN = data_NUSA[~flag2]\n",
    "\n",
    "    flag3 = data_NCN.region == 'Japan'\n",
    "    data_JP = data_NCN[flag3]\n",
    "    data_NJP = data_NCN[~flag3]\n",
    "\n",
    "    flag4 = data_NCN.region == 'United Kingdom'\n",
    "    data_UK = data_NCN[flag4]\n",
    "    data_NUK = data_NCN[~flag4]\n",
    "\n",
    "    flag5 = data_NCN.region == 'Germany'\n",
    "    data_GM = data_NCN[flag5]\n",
    "    data_OT = data_NCN[~flag5]\n",
    "\n",
    "    x1_train = data_USA[choose].values\n",
    "    y1_train = data_USA['score'].values\n",
    "    x2_train = data_CN[choose].values\n",
    "    y2_train = data_CN['score'].values\n",
    "    x3_train = data_JP[choose].values\n",
    "    y3_train = data_JP['score'].values\n",
    "    x4_train = data_UK[choose].values\n",
    "    y4_train = data_UK['score'].values\n",
    "    x5_train = data_GM[choose].values\n",
    "    y5_train = data_GM['score'].values\n",
    "    x6_train = data_OT[choose].values\n",
    "    y6_train = data_OT['score'].values\n",
    "\n",
    "    x_test = test_df[choose].values\n",
    "    y_test = test_df['score'].values\n",
    "    x_flag = (test_df['region'] == 'USA').values\n",
    "\n",
    "    lr1 = LinearRegression()\n",
    "    lr2 = LinearRegression()\n",
    "    lr3 = LinearRegression()\n",
    "    lr4 = LinearRegression()\n",
    "    lr5 = LinearRegression()\n",
    "    lr6 = LinearRegression()\n",
    "\n",
    "    lr1.fit(x1_train, y1_train)\n",
    "    lr2.fit(x2_train, y2_train)\n",
    "    lr3.fit(x3_train, y3_train)\n",
    "    lr4.fit(x4_train, y4_train)\n",
    "    lr5.fit(x5_train, y5_train)\n",
    "    lr6.fit(x6_train, y6_train)\n",
    "\n",
    "    RMSE = 0\n",
    "    for sample, label, flag in zip(x_test, y_test, x_flag):\n",
    "        if flag == 'USA':\n",
    "            y_hat = lr1.predict(sample.reshape(1, -1))\n",
    "        elif flag == 'China':\n",
    "            y_hat = lr2.predict(sample.reshape(1, -1))\n",
    "        elif flag == 'Japan':\n",
    "            y_hat = lr3.predict(sample.reshape(1, -1))\n",
    "        elif flag == 'United Kingdom':\n",
    "            y_hat = lr4.predict(sample.reshape(1, -1))\n",
    "        elif flag == 'Germany':\n",
    "            y_hat = lr5.predict(sample.reshape(1, -1))\n",
    "        else:\n",
    "            y_hat = lr6.predict(sample.reshape(1, -1))\n",
    "        RMSE += pow(label - y_hat, 2)\n",
    "    RMSE = np.sqrt(RMSE / len(y_test))\n",
    "    total_RMSE.append(RMSE[0])\n",
    "\n",
    "mean = sum(total_RMSE) / REPEAT_TIMES\n",
    "print(min(total_RMSE), mean, max(total_RMSE))\n",
    "\n",
    "plt.xlim([min(total_RMSE) - 0.5, max(total_RMSE) + 0.5])\n",
    "plt.hist(total_RMSE, bins=30)\n",
    "plt.title('Test Set RMSE Frequency')\n",
    "plt.xlabel('RMSE')\n",
    "plt.ylabel('freq.')\n",
    "plt.savefig('RMSE_no_br_hist.pdf')"
   ],
   "metadata": {
    "collapsed": false,
    "pycharm": {
     "name": "#%%\n"
    }
   }
  },
  {
   "cell_type": "code",
   "execution_count": 7,
   "outputs": [
    {
     "name": "stdout",
     "output_type": "stream",
     "text": [
      "1.3335816845933164 2.2366308287552785 4.075921693709024\n"
     ]
    },
    {
     "data": {
      "text/plain": "<Figure size 432x288 with 1 Axes>",
      "image/png": "[encoded data removed]"
     },
     "metadata": {
      "needs_background": "light"
     },
     "output_type": "display_data"
    }
   ],
   "source": [
    "import pandas as pd\n",
    "import numpy as np\n",
    "from sklearn.model_selection import train_test_split, cross_validate  # 划分数据集函数\n",
    "from sklearn.linear_model import LinearRegression\n",
    "import matplotlib.pyplot as plt\n",
    "\n",
    "data_df = pd.read_csv('./cwurData.csv')  # 读入 csv 文件为 pandas 的 DataFrame\n",
    "data_df = data_df.dropna()  # 舍去包含 NaN 的 row\n",
    "\n",
    "feature_cols = ['quality_of_faculty', 'publications', 'citations', 'alumni_employment',\n",
    "                'influence', 'quality_of_education', 'patents', 'broad_impact', 'national_rank']\n",
    "\n",
    "for column in feature_cols:\n",
    "    data_df['log_' + column] = np.log2(data_df[column])\n",
    "\n",
    "choose = ['log_quality_of_faculty', 'log_alumni_employment', 'log_quality_of_education', 'log_patents',\n",
    "          'influence', 'log_influence', 'log_national_rank']\n",
    "\n",
    "total_RMSE = []\n",
    "REPEAT_TIMES = 10000\n",
    "\n",
    "for i in range(0, REPEAT_TIMES):\n",
    "\n",
    "    train_df = data_df.sample(frac=0.8)\n",
    "    test_df = data_df.drop(train_df.index)\n",
    "\n",
    "    flag1 = train_df.region == 'USA'\n",
    "    data_USA = train_df[flag1]\n",
    "    data_NUSA = train_df[~flag1]\n",
    "\n",
    "    flag2 = data_NUSA.region == 'China'\n",
    "    data_CN = data_NUSA[flag2]\n",
    "    data_NCN = data_NUSA[~flag2]\n",
    "\n",
    "    x1_train = data_USA[choose].values\n",
    "    y1_train = data_USA['score'].values\n",
    "    x2_train = data_CN[choose].values\n",
    "    y2_train = data_CN['score'].values\n",
    "    x3_train = data_NCN[choose].values\n",
    "    y3_train = data_NCN['score'].values\n",
    "\n",
    "    x_test = test_df[choose].values\n",
    "    y_test = test_df['score'].values\n",
    "    x_flag = (test_df['region'] == 'USA').values\n",
    "\n",
    "    lr1 = LinearRegression()\n",
    "    lr2 = LinearRegression()\n",
    "    lr3 = LinearRegression()\n",
    "\n",
    "    lr1.fit(x1_train, y1_train)\n",
    "    lr2.fit(x2_train, y2_train)\n",
    "    lr3.fit(x3_train, y3_train)\n",
    "\n",
    "    RMSE = 0\n",
    "    for sample, label, flag in zip(x_test, y_test, x_flag):\n",
    "        if flag == 'USA':\n",
    "            y_hat = lr1.predict(sample.reshape(1, -1))\n",
    "        elif flag == 'China':\n",
    "            y_hat = lr2.predict(sample.reshape(1, -1))\n",
    "        else:\n",
    "            y_hat = lr3.predict(sample.reshape(1, -1))\n",
    "        RMSE += pow(label - y_hat, 2)\n",
    "    RMSE = np.sqrt(RMSE / len(y_test))\n",
    "    total_RMSE.append(RMSE[0])\n",
    "\n",
    "mean = sum(total_RMSE) / REPEAT_TIMES\n",
    "print(min(total_RMSE), mean, max(total_RMSE))\n",
    "\n",
    "plt.xlim([min(total_RMSE) - 0.5, max(total_RMSE) + 0.5])\n",
    "plt.hist(total_RMSE, bins=30)\n",
    "plt.title('Test Set RMSE Frequency')\n",
    "plt.xlabel('RMSE')\n",
    "plt.ylabel('freq.')\n",
    "plt.savefig('RMSE_no_br_hist.pdf')"
   ],
   "metadata": {
    "collapsed": false,
    "pycharm": {
     "name": "#%%\n"
    }
   }
  }
 ],
 "metadata": {
  "kernelspec": {
   "display_name": "Python 3",
   "language": "python",
   "name": "python3"
  },
  "language_info": {
   "codemirror_mode": {
    "name": "ipython",
    "version": 3
   },
   "file_extension": ".py",
   "mimetype": "text/x-python",
   "name": "python",
   "nbconvert_exporter": "python",
   "pygments_lexer": "ipython3",
   "version": "3.7.6"
  }
 },
 "nbformat": 4,
 "nbformat_minor": 4
}